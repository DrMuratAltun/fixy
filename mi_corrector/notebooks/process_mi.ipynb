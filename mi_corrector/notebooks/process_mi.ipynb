{
  "nbformat": 4,
  "nbformat_minor": 0,
  "metadata": {
    "colab": {
      "name": "process_mi.ipynb",
      "provenance": []
    },
    "kernelspec": {
      "name": "python3",
      "display_name": "Python 3"
    }
  },
  "cells": [
    {
      "cell_type": "code",
      "metadata": {
        "id": "Ouque_l7FnIr",
        "colab_type": "code",
        "colab": {
          "base_uri": "https://localhost:8080/",
          "height": 34
        },
        "outputId": "880abbb4-5c59-4570-e3ac-8fedb8025333"
      },
      "source": [
        "from google.colab import drive\n",
        "drive.mount('/content/drive')"
      ],
      "execution_count": null,
      "outputs": [
        {
          "output_type": "stream",
          "text": [
            "Drive already mounted at /content/drive; to attempt to forcibly remount, call drive.mount(\"/content/drive\", force_remount=True).\n"
          ],
          "name": "stdout"
        }
      ]
    },
    {
      "cell_type": "code",
      "metadata": {
        "id": "NIOOp1y3FrKE",
        "colab_type": "code",
        "colab": {}
      },
      "source": [
        "import pandas as pd\n",
        "df = pd.read_csv('/content/drive/My Drive/Fixy/OpenSubtitles.en-tr.tr', sep= '\\t', error_bad_lines=False, header=None)"
      ],
      "execution_count": null,
      "outputs": []
    },
    {
      "cell_type": "code",
      "metadata": {
        "id": "L5qBNgsHFrQx",
        "colab_type": "code",
        "colab": {
          "base_uri": "https://localhost:8080/",
          "height": 260
        },
        "outputId": "555a9d01-ac98-4598-b6fd-7a820dc80211"
      },
      "source": [
        "de_both = df[df[0].str.contains(\"mi\")]\n",
        "de_bitisik = de_both[~de_both[0].str.contains(\" mi\")]\n",
        "de_ayrı = de_both[de_both[0].str.contains(\" mi\")]\n",
        "print(de_bitisik.shape)\n",
        "print(de_ayrı.shape)\n",
        "\n",
        "de_bitisik[0]= de_bitisik[0].str.replace( r'mi.*\\s', \" X \", case = False) \n",
        "de_ayrı[0]= de_ayrı[0].str.replace(r' mi.*\\s', \" X \", case = False) \n",
        "\n",
        "de_bitisik = de_bitisik[de_bitisik[0].str.split().str.len().lt(10)]\n",
        "de_ayrı = de_ayrı[de_ayrı[0].str.split().str.len().lt(10)]\n",
        "\n",
        "de_bitisik = de_bitisik.sample(frac=1).reset_index(drop=True)\n",
        "de_ayrı = de_ayrı.sample(frac=1).reset_index(drop=True)\n",
        "\n",
        "if de_ayrı.shape[0] < de_bitisik.shape[0]:\n",
        "  de_bitisik = de_bitisik.sample(de_ayrı.shape[0]).reset_index(drop=True)\n",
        "else:\n",
        "  de_ayrı = de_ayrı.sample(de_bitisik.shape[0]).reset_index(drop=True)\n",
        "\n",
        "mi_bitisik = de_bitisik \n",
        "mi_ayrı = de_ayrı"
      ],
      "execution_count": null,
      "outputs": [
        {
          "output_type": "stream",
          "text": [
            "(3688827, 1)\n",
            "(2337944, 1)\n"
          ],
          "name": "stdout"
        },
        {
          "output_type": "stream",
          "text": [
            "/usr/local/lib/python3.6/dist-packages/ipykernel_launcher.py:7: SettingWithCopyWarning: \n",
            "A value is trying to be set on a copy of a slice from a DataFrame.\n",
            "Try using .loc[row_indexer,col_indexer] = value instead\n",
            "\n",
            "See the caveats in the documentation: https://pandas.pydata.org/pandas-docs/stable/user_guide/indexing.html#returning-a-view-versus-a-copy\n",
            "  import sys\n",
            "/usr/local/lib/python3.6/dist-packages/ipykernel_launcher.py:8: SettingWithCopyWarning: \n",
            "A value is trying to be set on a copy of a slice from a DataFrame.\n",
            "Try using .loc[row_indexer,col_indexer] = value instead\n",
            "\n",
            "See the caveats in the documentation: https://pandas.pydata.org/pandas-docs/stable/user_guide/indexing.html#returning-a-view-versus-a-copy\n",
            "  \n"
          ],
          "name": "stderr"
        }
      ]
    },
    {
      "cell_type": "code",
      "metadata": {
        "id": "R3dt12g_IaM1",
        "colab_type": "code",
        "colab": {
          "base_uri": "https://localhost:8080/",
          "height": 677
        },
        "outputId": "2d34002a-6616-4257-aefb-09c4f8eee4dd"
      },
      "source": [
        "mi_bitisik.head(n=20)"
      ],
      "execution_count": null,
      "outputs": [
        {
          "output_type": "execute_result",
          "data": {
            "text/html": [
              "<div>\n",
              "<style scoped>\n",
              "    .dataframe tbody tr th:only-of-type {\n",
              "        vertical-align: middle;\n",
              "    }\n",
              "\n",
              "    .dataframe tbody tr th {\n",
              "        vertical-align: top;\n",
              "    }\n",
              "\n",
              "    .dataframe thead th {\n",
              "        text-align: right;\n",
              "    }\n",
              "</style>\n",
              "<table border=\"1\" class=\"dataframe\">\n",
              "  <thead>\n",
              "    <tr style=\"text-align: right;\">\n",
              "      <th></th>\n",
              "      <th>0</th>\n",
              "    </tr>\n",
              "  </thead>\n",
              "  <tbody>\n",
              "    <tr>\n",
              "      <th>0</th>\n",
              "      <td>Hepsini attığın zaman sevdiğin kişiyi yeniden ...</td>\n",
              "    </tr>\n",
              "    <tr>\n",
              "      <th>1</th>\n",
              "      <td>- Süt istemiyorum.</td>\n",
              "    </tr>\n",
              "    <tr>\n",
              "      <th>2</th>\n",
              "      <td>Aynı zamanda seninde ismin..</td>\n",
              "    </tr>\n",
              "    <tr>\n",
              "      <th>3</th>\n",
              "      <td>- Eli X olacağız.</td>\n",
              "    </tr>\n",
              "    <tr>\n",
              "      <th>4</th>\n",
              "      <td>Ben şahsen ondan hoşlanmam. Ama ge X tanır.</td>\n",
              "    </tr>\n",
              "    <tr>\n",
              "      <th>5</th>\n",
              "      <td>Sanırım hepi X düşünüyoruz.</td>\n",
              "    </tr>\n",
              "    <tr>\n",
              "      <th>6</th>\n",
              "      <td>Bir kere, üç günlüğüne yalnız gelmiştim.</td>\n",
              "    </tr>\n",
              "    <tr>\n",
              "      <th>7</th>\n",
              "      <td>Tek istediğin bombacının kafasına bir mer X sı...</td>\n",
              "    </tr>\n",
              "    <tr>\n",
              "      <th>8</th>\n",
              "      <td>Gitmen yet X götürdün.</td>\n",
              "    </tr>\n",
              "    <tr>\n",
              "      <th>9</th>\n",
              "      <td>Sadece başka bir bilet kazandık,ikra X değil!</td>\n",
              "    </tr>\n",
              "    <tr>\n",
              "      <th>10</th>\n",
              "      <td>Sana ne demiştim?</td>\n",
              "    </tr>\n",
              "    <tr>\n",
              "      <th>11</th>\n",
              "      <td>- Babam söylemişti.</td>\n",
              "    </tr>\n",
              "    <tr>\n",
              "      <th>12</th>\n",
              "      <td>Doğrusu, biz senin için yapabileceği X gelmiştik.</td>\n",
              "    </tr>\n",
              "    <tr>\n",
              "      <th>13</th>\n",
              "      <td>Sana il X lazım!</td>\n",
              "    </tr>\n",
              "    <tr>\n",
              "      <th>14</th>\n",
              "      <td>- Acele X biraz</td>\n",
              "    </tr>\n",
              "    <tr>\n",
              "      <th>15</th>\n",
              "      <td>Bak, haddi X aştım.</td>\n",
              "    </tr>\n",
              "    <tr>\n",
              "      <th>16</th>\n",
              "      <td>Çürük çatıları ta X insanlar.</td>\n",
              "    </tr>\n",
              "    <tr>\n",
              "      <th>17</th>\n",
              "      <td>- Eli X geçecek?</td>\n",
              "    </tr>\n",
              "    <tr>\n",
              "      <th>18</th>\n",
              "      <td>Ge X sıkıştı.</td>\n",
              "    </tr>\n",
              "    <tr>\n",
              "      <th>19</th>\n",
              "      <td>Sizin için onları öldürme X istediniz.</td>\n",
              "    </tr>\n",
              "  </tbody>\n",
              "</table>\n",
              "</div>"
            ],
            "text/plain": [
              "                                                    0\n",
              "0   Hepsini attığın zaman sevdiğin kişiyi yeniden ...\n",
              "1                                  - Süt istemiyorum.\n",
              "2                        Aynı zamanda seninde ismin..\n",
              "3                                   - Eli X olacağız.\n",
              "4         Ben şahsen ondan hoşlanmam. Ama ge X tanır.\n",
              "5                         Sanırım hepi X düşünüyoruz.\n",
              "6            Bir kere, üç günlüğüne yalnız gelmiştim.\n",
              "7   Tek istediğin bombacının kafasına bir mer X sı...\n",
              "8                              Gitmen yet X götürdün.\n",
              "9       Sadece başka bir bilet kazandık,ikra X değil!\n",
              "10                                  Sana ne demiştim?\n",
              "11                                - Babam söylemişti.\n",
              "12  Doğrusu, biz senin için yapabileceği X gelmiştik.\n",
              "13                                   Sana il X lazım!\n",
              "14                                    - Acele X biraz\n",
              "15                                Bak, haddi X aştım.\n",
              "16                      Çürük çatıları ta X insanlar.\n",
              "17                                   - Eli X geçecek?\n",
              "18                                      Ge X sıkıştı.\n",
              "19             Sizin için onları öldürme X istediniz."
            ]
          },
          "metadata": {
            "tags": []
          },
          "execution_count": 4
        }
      ]
    },
    {
      "cell_type": "code",
      "metadata": {
        "id": "Mbh2vycnLbKY",
        "colab_type": "code",
        "colab": {
          "base_uri": "https://localhost:8080/",
          "height": 260
        },
        "outputId": "b3401a4a-4fb5-455f-c636-a6b40f41ef8c"
      },
      "source": [
        "de_both = df[df[0].str.contains(\"mu\")]\n",
        "de_bitisik = de_both[~de_both[0].str.contains(\" mu\")]\n",
        "de_ayrı = de_both[de_both[0].str.contains(\" mu\")]\n",
        "print(de_bitisik.shape)\n",
        "print(de_ayrı.shape)\n",
        "\n",
        "de_bitisik[0]= de_bitisik[0].str.replace( r'mu.*\\s', \" X \", case = False) \n",
        "de_ayrı[0]= de_ayrı[0].str.replace(r' mu.*\\s', \" X \", case = False) \n",
        "\n",
        "de_bitisik = de_bitisik[de_bitisik[0].str.split().str.len().lt(10)]\n",
        "de_ayrı = de_ayrı[de_ayrı[0].str.split().str.len().lt(10)]\n",
        "\n",
        "de_bitisik = de_bitisik.sample(frac=1).reset_index(drop=True)\n",
        "de_ayrı = de_ayrı.sample(frac=1).reset_index(drop=True)\n",
        "\n",
        "if de_ayrı.shape[0] < de_bitisik.shape[0]:\n",
        "  de_bitisik = de_bitisik.sample(de_ayrı.shape[0]).reset_index(drop=True)\n",
        "else:\n",
        "  de_ayrı = de_ayrı.sample(de_bitisik.shape[0]).reset_index(drop=True)\n",
        "\n",
        "mu_bitisik = de_bitisik \n",
        "mu_ayrı = de_ayrı"
      ],
      "execution_count": null,
      "outputs": [
        {
          "output_type": "stream",
          "text": [
            "(1057226, 1)\n",
            "(1081207, 1)\n"
          ],
          "name": "stdout"
        },
        {
          "output_type": "stream",
          "text": [
            "/usr/local/lib/python3.6/dist-packages/ipykernel_launcher.py:7: SettingWithCopyWarning: \n",
            "A value is trying to be set on a copy of a slice from a DataFrame.\n",
            "Try using .loc[row_indexer,col_indexer] = value instead\n",
            "\n",
            "See the caveats in the documentation: https://pandas.pydata.org/pandas-docs/stable/user_guide/indexing.html#returning-a-view-versus-a-copy\n",
            "  import sys\n",
            "/usr/local/lib/python3.6/dist-packages/ipykernel_launcher.py:8: SettingWithCopyWarning: \n",
            "A value is trying to be set on a copy of a slice from a DataFrame.\n",
            "Try using .loc[row_indexer,col_indexer] = value instead\n",
            "\n",
            "See the caveats in the documentation: https://pandas.pydata.org/pandas-docs/stable/user_guide/indexing.html#returning-a-view-versus-a-copy\n",
            "  \n"
          ],
          "name": "stderr"
        }
      ]
    },
    {
      "cell_type": "code",
      "metadata": {
        "id": "TW_KiH1AMCEy",
        "colab_type": "code",
        "colab": {
          "base_uri": "https://localhost:8080/",
          "height": 260
        },
        "outputId": "06dc69b9-4593-41c7-c64a-570adf683c47"
      },
      "source": [
        "de_both = df[df[0].str.contains(\"mı\")]\n",
        "de_bitisik = de_both[~de_both[0].str.contains(\" mı\")]\n",
        "de_ayrı = de_both[de_both[0].str.contains(\" mı\")]\n",
        "print(de_bitisik.shape)\n",
        "print(de_ayrı.shape)\n",
        "\n",
        "de_bitisik[0]= de_bitisik[0].str.replace( r'mı.*\\s', \" X \", case = False) \n",
        "de_ayrı[0]= de_ayrı[0].str.replace(r' mı.*\\s', \" X \", case = False) \n",
        "\n",
        "de_bitisik = de_bitisik[de_bitisik[0].str.split().str.len().lt(10)]\n",
        "de_ayrı = de_ayrı[de_ayrı[0].str.split().str.len().lt(10)]\n",
        "\n",
        "de_bitisik = de_bitisik.sample(frac=1).reset_index(drop=True)\n",
        "de_ayrı = de_ayrı.sample(frac=1).reset_index(drop=True)\n",
        "\n",
        "if de_ayrı.shape[0] < de_bitisik.shape[0]:\n",
        "  de_bitisik = de_bitisik.sample(de_ayrı.shape[0]).reset_index(drop=True)\n",
        "else:\n",
        "  de_ayrı = de_ayrı.sample(de_bitisik.shape[0]).reset_index(drop=True)\n",
        "\n",
        "mı_bitisik = de_bitisik \n",
        "mı_ayrı = de_ayrı"
      ],
      "execution_count": null,
      "outputs": [
        {
          "output_type": "stream",
          "text": [
            "(2663132, 1)\n",
            "(1365101, 1)\n"
          ],
          "name": "stdout"
        },
        {
          "output_type": "stream",
          "text": [
            "/usr/local/lib/python3.6/dist-packages/ipykernel_launcher.py:7: SettingWithCopyWarning: \n",
            "A value is trying to be set on a copy of a slice from a DataFrame.\n",
            "Try using .loc[row_indexer,col_indexer] = value instead\n",
            "\n",
            "See the caveats in the documentation: https://pandas.pydata.org/pandas-docs/stable/user_guide/indexing.html#returning-a-view-versus-a-copy\n",
            "  import sys\n",
            "/usr/local/lib/python3.6/dist-packages/ipykernel_launcher.py:8: SettingWithCopyWarning: \n",
            "A value is trying to be set on a copy of a slice from a DataFrame.\n",
            "Try using .loc[row_indexer,col_indexer] = value instead\n",
            "\n",
            "See the caveats in the documentation: https://pandas.pydata.org/pandas-docs/stable/user_guide/indexing.html#returning-a-view-versus-a-copy\n",
            "  \n"
          ],
          "name": "stderr"
        }
      ]
    },
    {
      "cell_type": "code",
      "metadata": {
        "id": "7x5sgt_SMKWH",
        "colab_type": "code",
        "colab": {
          "base_uri": "https://localhost:8080/",
          "height": 260
        },
        "outputId": "fc637935-828a-4fc4-b95d-558130b5d2b2"
      },
      "source": [
        "de_both = df[df[0].str.contains(\"mü\")]\n",
        "de_bitisik = de_both[~de_both[0].str.contains(\" mü\")]\n",
        "de_ayrı = de_both[de_both[0].str.contains(\" mü\")]\n",
        "print(de_bitisik.shape)\n",
        "print(de_ayrı.shape)\n",
        "\n",
        "de_bitisik[0]= de_bitisik[0].str.replace( r'mü.*\\s', \" X \", case = False) \n",
        "de_ayrı[0]= de_ayrı[0].str.replace(r' mü.*\\s', \" X \", case = False) \n",
        "\n",
        "de_bitisik = de_bitisik[de_bitisik[0].str.split().str.len().lt(10)]\n",
        "de_ayrı = de_ayrı[de_ayrı[0].str.split().str.len().lt(10)]\n",
        "\n",
        "de_bitisik = de_bitisik.sample(frac=1).reset_index(drop=True)\n",
        "de_ayrı = de_ayrı.sample(frac=1).reset_index(drop=True)\n",
        "\n",
        "if de_ayrı.shape[0] < de_bitisik.shape[0]:\n",
        "  de_bitisik = de_bitisik.sample(de_ayrı.shape[0]).reset_index(drop=True)\n",
        "else:\n",
        "  de_ayrı = de_ayrı.sample(de_bitisik.shape[0]).reset_index(drop=True)\n",
        "\n",
        "mü_bitisik = de_bitisik \n",
        "mü_ayrı = de_ayrı"
      ],
      "execution_count": null,
      "outputs": [
        {
          "output_type": "stream",
          "text": [
            "(440718, 1)\n",
            "(374081, 1)\n"
          ],
          "name": "stdout"
        },
        {
          "output_type": "stream",
          "text": [
            "/usr/local/lib/python3.6/dist-packages/ipykernel_launcher.py:7: SettingWithCopyWarning: \n",
            "A value is trying to be set on a copy of a slice from a DataFrame.\n",
            "Try using .loc[row_indexer,col_indexer] = value instead\n",
            "\n",
            "See the caveats in the documentation: https://pandas.pydata.org/pandas-docs/stable/user_guide/indexing.html#returning-a-view-versus-a-copy\n",
            "  import sys\n",
            "/usr/local/lib/python3.6/dist-packages/ipykernel_launcher.py:8: SettingWithCopyWarning: \n",
            "A value is trying to be set on a copy of a slice from a DataFrame.\n",
            "Try using .loc[row_indexer,col_indexer] = value instead\n",
            "\n",
            "See the caveats in the documentation: https://pandas.pydata.org/pandas-docs/stable/user_guide/indexing.html#returning-a-view-versus-a-copy\n",
            "  \n"
          ],
          "name": "stderr"
        }
      ]
    },
    {
      "cell_type": "code",
      "metadata": {
        "id": "6mEDVRftMSsS",
        "colab_type": "code",
        "colab": {
          "base_uri": "https://localhost:8080/",
          "height": 363
        },
        "outputId": "6247e5e0-3723-4e00-c703-8f6dbc99e773"
      },
      "source": [
        "data_bitisik = pd.concat([mı_bitisik, mi_bitisik, mu_bitisik, mü_bitisik])\n",
        "data_bitisik = data_bitisik.sample(frac=1).reset_index(drop=True)\n",
        "data_bitisik.head(n=10)"
      ],
      "execution_count": null,
      "outputs": [
        {
          "output_type": "execute_result",
          "data": {
            "text/html": [
              "<div>\n",
              "<style scoped>\n",
              "    .dataframe tbody tr th:only-of-type {\n",
              "        vertical-align: middle;\n",
              "    }\n",
              "\n",
              "    .dataframe tbody tr th {\n",
              "        vertical-align: top;\n",
              "    }\n",
              "\n",
              "    .dataframe thead th {\n",
              "        text-align: right;\n",
              "    }\n",
              "</style>\n",
              "<table border=\"1\" class=\"dataframe\">\n",
              "  <thead>\n",
              "    <tr style=\"text-align: right;\">\n",
              "      <th></th>\n",
              "      <th>0</th>\n",
              "    </tr>\n",
              "  </thead>\n",
              "  <tbody>\n",
              "    <tr>\n",
              "      <th>0</th>\n",
              "      <td>Çelik bir kapan. - Bilgisayarla X bir--</td>\n",
              "    </tr>\n",
              "    <tr>\n",
              "      <th>1</th>\n",
              "      <td>Ki X umurunda?</td>\n",
              "    </tr>\n",
              "    <tr>\n",
              "      <th>2</th>\n",
              "      <td>İtalya hakkında herhangi bir şey bilmiyorum.</td>\n",
              "    </tr>\n",
              "    <tr>\n",
              "      <th>3</th>\n",
              "      <td>Bu mahalleyi sevmiyorum.</td>\n",
              "    </tr>\n",
              "    <tr>\n",
              "      <th>4</th>\n",
              "      <td>Bu kulağa hiç de uğursuz gelmiyor.</td>\n",
              "    </tr>\n",
              "    <tr>\n",
              "      <th>5</th>\n",
              "      <td>Kendi işin hakkında benim kariyerim hakkında, ...</td>\n",
              "    </tr>\n",
              "    <tr>\n",
              "      <th>6</th>\n",
              "      <td>Thomas Jefferson de X olabilir.</td>\n",
              "    </tr>\n",
              "    <tr>\n",
              "      <th>7</th>\n",
              "      <td>Onun masum olduğunu düşündüğü X fikrimdi.</td>\n",
              "    </tr>\n",
              "    <tr>\n",
              "      <th>8</th>\n",
              "      <td>Doktor randevum var, yanımda götürmek istemiyo...</td>\n",
              "    </tr>\n",
              "    <tr>\n",
              "      <th>9</th>\n",
              "      <td>Ben görmüyorum.</td>\n",
              "    </tr>\n",
              "  </tbody>\n",
              "</table>\n",
              "</div>"
            ],
            "text/plain": [
              "                                                   0\n",
              "0            Çelik bir kapan. - Bilgisayarla X bir--\n",
              "1                                     Ki X umurunda?\n",
              "2       İtalya hakkında herhangi bir şey bilmiyorum.\n",
              "3                           Bu mahalleyi sevmiyorum.\n",
              "4                 Bu kulağa hiç de uğursuz gelmiyor.\n",
              "5  Kendi işin hakkında benim kariyerim hakkında, ...\n",
              "6                    Thomas Jefferson de X olabilir.\n",
              "7          Onun masum olduğunu düşündüğü X fikrimdi.\n",
              "8  Doktor randevum var, yanımda götürmek istemiyo...\n",
              "9                                    Ben görmüyorum."
            ]
          },
          "metadata": {
            "tags": []
          },
          "execution_count": 8
        }
      ]
    },
    {
      "cell_type": "code",
      "metadata": {
        "id": "Tf8uofo-MYYP",
        "colab_type": "code",
        "colab": {
          "base_uri": "https://localhost:8080/",
          "height": 363
        },
        "outputId": "f67d6612-79fb-4c41-9f7a-87d5b8b8df6f"
      },
      "source": [
        "data_ayrı = pd.concat([mı_ayrı, mi_ayrı, mu_ayrı, mü_ayrı])\n",
        "data_ayrı = data_ayrı.sample(frac=1).reset_index(drop=True)\n",
        "data_ayrı.head(n=10)"
      ],
      "execution_count": null,
      "outputs": [
        {
          "output_type": "execute_result",
          "data": {
            "text/html": [
              "<div>\n",
              "<style scoped>\n",
              "    .dataframe tbody tr th:only-of-type {\n",
              "        vertical-align: middle;\n",
              "    }\n",
              "\n",
              "    .dataframe tbody tr th {\n",
              "        vertical-align: top;\n",
              "    }\n",
              "\n",
              "    .dataframe thead th {\n",
              "        text-align: right;\n",
              "    }\n",
              "</style>\n",
              "<table border=\"1\" class=\"dataframe\">\n",
              "  <thead>\n",
              "    <tr style=\"text-align: right;\">\n",
              "      <th></th>\n",
              "      <th>0</th>\n",
              "    </tr>\n",
              "  </thead>\n",
              "  <tbody>\n",
              "    <tr>\n",
              "      <th>0</th>\n",
              "      <td>Uyuyor musun?</td>\n",
              "    </tr>\n",
              "    <tr>\n",
              "      <th>1</th>\n",
              "      <td>Bütün yiyecekleri ve kırıntıları temizlediğimi...</td>\n",
              "    </tr>\n",
              "    <tr>\n",
              "      <th>2</th>\n",
              "      <td>Bir erkek arkadaşın var mı?</td>\n",
              "    </tr>\n",
              "    <tr>\n",
              "      <th>3</th>\n",
              "      <td>Mektuplar X bile.</td>\n",
              "    </tr>\n",
              "    <tr>\n",
              "      <th>4</th>\n",
              "      <td>Bunu biliyor muydun?</td>\n",
              "    </tr>\n",
              "    <tr>\n",
              "      <th>5</th>\n",
              "      <td>Günah çıkaracağın hiçbir şey olmadığına emin m...</td>\n",
              "    </tr>\n",
              "    <tr>\n",
              "      <th>6</th>\n",
              "      <td>Gitmeyeceksin, değil X Poppins?</td>\n",
              "    </tr>\n",
              "    <tr>\n",
              "      <th>7</th>\n",
              "      <td>- Değil miyim?</td>\n",
              "    </tr>\n",
              "    <tr>\n",
              "      <th>8</th>\n",
              "      <td>Fransa'ya geri X döndün?</td>\n",
              "    </tr>\n",
              "    <tr>\n",
              "      <th>9</th>\n",
              "      <td>Öyle söyleme seni X kuş.</td>\n",
              "    </tr>\n",
              "  </tbody>\n",
              "</table>\n",
              "</div>"
            ],
            "text/plain": [
              "                                                   0\n",
              "0                                      Uyuyor musun?\n",
              "1  Bütün yiyecekleri ve kırıntıları temizlediğimi...\n",
              "2                        Bir erkek arkadaşın var mı?\n",
              "3                                  Mektuplar X bile.\n",
              "4                               Bunu biliyor muydun?\n",
              "5  Günah çıkaracağın hiçbir şey olmadığına emin m...\n",
              "6                    Gitmeyeceksin, değil X Poppins?\n",
              "7                                     - Değil miyim?\n",
              "8                           Fransa'ya geri X döndün?\n",
              "9                           Öyle söyleme seni X kuş."
            ]
          },
          "metadata": {
            "tags": []
          },
          "execution_count": 9
        }
      ]
    },
    {
      "cell_type": "code",
      "metadata": {
        "id": "uOT5NybvMYxL",
        "colab_type": "code",
        "colab": {}
      },
      "source": [
        "data_bitisik['y'] = 1\n",
        "data_ayrı['y'] = 0"
      ],
      "execution_count": null,
      "outputs": []
    },
    {
      "cell_type": "code",
      "metadata": {
        "id": "f3WKhR0XM0Dm",
        "colab_type": "code",
        "colab": {
          "base_uri": "https://localhost:8080/",
          "height": 206
        },
        "outputId": "48fcfce7-4830-44d1-b725-bf3cd997fe79"
      },
      "source": [
        "data_bitisik.head()"
      ],
      "execution_count": null,
      "outputs": [
        {
          "output_type": "execute_result",
          "data": {
            "text/html": [
              "<div>\n",
              "<style scoped>\n",
              "    .dataframe tbody tr th:only-of-type {\n",
              "        vertical-align: middle;\n",
              "    }\n",
              "\n",
              "    .dataframe tbody tr th {\n",
              "        vertical-align: top;\n",
              "    }\n",
              "\n",
              "    .dataframe thead th {\n",
              "        text-align: right;\n",
              "    }\n",
              "</style>\n",
              "<table border=\"1\" class=\"dataframe\">\n",
              "  <thead>\n",
              "    <tr style=\"text-align: right;\">\n",
              "      <th></th>\n",
              "      <th>0</th>\n",
              "      <th>y</th>\n",
              "    </tr>\n",
              "  </thead>\n",
              "  <tbody>\n",
              "    <tr>\n",
              "      <th>0</th>\n",
              "      <td>Çelik bir kapan. - Bilgisayarla X bir--</td>\n",
              "      <td>1</td>\n",
              "    </tr>\n",
              "    <tr>\n",
              "      <th>1</th>\n",
              "      <td>Ki X umurunda?</td>\n",
              "      <td>1</td>\n",
              "    </tr>\n",
              "    <tr>\n",
              "      <th>2</th>\n",
              "      <td>İtalya hakkında herhangi bir şey bilmiyorum.</td>\n",
              "      <td>1</td>\n",
              "    </tr>\n",
              "    <tr>\n",
              "      <th>3</th>\n",
              "      <td>Bu mahalleyi sevmiyorum.</td>\n",
              "      <td>1</td>\n",
              "    </tr>\n",
              "    <tr>\n",
              "      <th>4</th>\n",
              "      <td>Bu kulağa hiç de uğursuz gelmiyor.</td>\n",
              "      <td>1</td>\n",
              "    </tr>\n",
              "  </tbody>\n",
              "</table>\n",
              "</div>"
            ],
            "text/plain": [
              "                                              0  y\n",
              "0       Çelik bir kapan. - Bilgisayarla X bir--  1\n",
              "1                                Ki X umurunda?  1\n",
              "2  İtalya hakkında herhangi bir şey bilmiyorum.  1\n",
              "3                      Bu mahalleyi sevmiyorum.  1\n",
              "4            Bu kulağa hiç de uğursuz gelmiyor.  1"
            ]
          },
          "metadata": {
            "tags": []
          },
          "execution_count": 11
        }
      ]
    },
    {
      "cell_type": "code",
      "metadata": {
        "id": "wvQ610eUM1Vv",
        "colab_type": "code",
        "colab": {
          "base_uri": "https://localhost:8080/",
          "height": 363
        },
        "outputId": "2c1ed9ff-8adb-421f-e64e-f6805d68d0b9"
      },
      "source": [
        "data_final = pd.concat([data_bitisik, data_ayrı])\n",
        "data_final = data_final.sample(frac=1).reset_index(drop=True)\n",
        "data_final.head(n=10)"
      ],
      "execution_count": null,
      "outputs": [
        {
          "output_type": "execute_result",
          "data": {
            "text/html": [
              "<div>\n",
              "<style scoped>\n",
              "    .dataframe tbody tr th:only-of-type {\n",
              "        vertical-align: middle;\n",
              "    }\n",
              "\n",
              "    .dataframe tbody tr th {\n",
              "        vertical-align: top;\n",
              "    }\n",
              "\n",
              "    .dataframe thead th {\n",
              "        text-align: right;\n",
              "    }\n",
              "</style>\n",
              "<table border=\"1\" class=\"dataframe\">\n",
              "  <thead>\n",
              "    <tr style=\"text-align: right;\">\n",
              "      <th></th>\n",
              "      <th>0</th>\n",
              "      <th>y</th>\n",
              "    </tr>\n",
              "  </thead>\n",
              "  <tbody>\n",
              "    <tr>\n",
              "      <th>0</th>\n",
              "      <td>Arkadaşıyla tepelerde slalom yapıyormuş.</td>\n",
              "      <td>1</td>\n",
              "    </tr>\n",
              "    <tr>\n",
              "      <th>1</th>\n",
              "      <td>Sarhoş gibi görünüyor muydu?</td>\n",
              "      <td>0</td>\n",
              "    </tr>\n",
              "    <tr>\n",
              "      <th>2</th>\n",
              "      <td>Neden Hel X karşısınız?</td>\n",
              "      <td>1</td>\n",
              "    </tr>\n",
              "    <tr>\n",
              "      <th>3</th>\n",
              "      <td>Sizin için yapabileceğimiz başka bir şey var mı?</td>\n",
              "      <td>0</td>\n",
              "    </tr>\n",
              "    <tr>\n",
              "      <th>4</th>\n",
              "      <td>Eğer Raymond Becker bütçe X çekerse...</td>\n",
              "      <td>1</td>\n",
              "    </tr>\n",
              "    <tr>\n",
              "      <th>5</th>\n",
              "      <td>Gyu Won'u X demek.</td>\n",
              "      <td>1</td>\n",
              "    </tr>\n",
              "    <tr>\n",
              "      <th>6</th>\n",
              "      <td>Komiksin.</td>\n",
              "      <td>1</td>\n",
              "    </tr>\n",
              "    <tr>\n",
              "      <th>7</th>\n",
              "      <td>Ne yapmam gerektiğini bilmiyorum.</td>\n",
              "      <td>1</td>\n",
              "    </tr>\n",
              "    <tr>\n",
              "      <th>8</th>\n",
              "      <td>Oyunu X mi?</td>\n",
              "      <td>1</td>\n",
              "    </tr>\n",
              "    <tr>\n",
              "      <th>9</th>\n",
              "      <td>Bakıyor X lan?</td>\n",
              "      <td>0</td>\n",
              "    </tr>\n",
              "  </tbody>\n",
              "</table>\n",
              "</div>"
            ],
            "text/plain": [
              "                                                  0  y\n",
              "0          Arkadaşıyla tepelerde slalom yapıyormuş.  1\n",
              "1                      Sarhoş gibi görünüyor muydu?  0\n",
              "2                           Neden Hel X karşısınız?  1\n",
              "3  Sizin için yapabileceğimiz başka bir şey var mı?  0\n",
              "4            Eğer Raymond Becker bütçe X çekerse...  1\n",
              "5                                Gyu Won'u X demek.  1\n",
              "6                                         Komiksin.  1\n",
              "7                 Ne yapmam gerektiğini bilmiyorum.  1\n",
              "8                                       Oyunu X mi?  1\n",
              "9                                    Bakıyor X lan?  0"
            ]
          },
          "metadata": {
            "tags": []
          },
          "execution_count": 12
        }
      ]
    },
    {
      "cell_type": "code",
      "metadata": {
        "id": "yHi-a4qpM5GI",
        "colab_type": "code",
        "colab": {}
      },
      "source": [
        "data_final = data_final.rename(columns={0: 'line'})"
      ],
      "execution_count": null,
      "outputs": []
    },
    {
      "cell_type": "code",
      "metadata": {
        "id": "ubfQim7tM5Ix",
        "colab_type": "code",
        "colab": {
          "base_uri": "https://localhost:8080/",
          "height": 34
        },
        "outputId": "0d40b580-ce80-43e6-b7c6-4f6b0f94cfd6"
      },
      "source": [
        "print(data_final.shape)"
      ],
      "execution_count": null,
      "outputs": [
        {
          "output_type": "stream",
          "text": [
            "(9507636, 2)\n"
          ],
          "name": "stdout"
        }
      ]
    },
    {
      "cell_type": "code",
      "metadata": {
        "id": "I9H6QcoxM5Oa",
        "colab_type": "code",
        "colab": {}
      },
      "source": [
        "data_final.to_csv('/content/drive/My Drive/Fixy/mi_v1_data_subtitle_final_X.csv', encoding='utf-8', index=False)\n"
      ],
      "execution_count": null,
      "outputs": []
    }
  ]
}