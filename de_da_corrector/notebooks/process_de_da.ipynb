{
  "nbformat": 4,
  "nbformat_minor": 0,
  "metadata": {
    "colab": {
      "name": "process_de_da.ipynb",
      "provenance": []
    },
    "kernelspec": {
      "name": "python3",
      "display_name": "Python 3"
    },
    "accelerator": "GPU"
  },
  "cells": [
    {
      "cell_type": "code",
      "metadata": {
        "id": "GVPzqZN_jozA",
        "colab_type": "code",
        "colab": {
          "base_uri": "https://localhost:8080/",
          "height": 34
        },
        "outputId": "f67f528b-a88c-4106-fee2-33e80788b4a5"
      },
      "source": [
        "from google.colab import drive\n",
        "drive.mount('/content/drive')"
      ],
      "execution_count": 117,
      "outputs": [
        {
          "output_type": "stream",
          "text": [
            "Drive already mounted at /content/drive; to attempt to forcibly remount, call drive.mount(\"/content/drive\", force_remount=True).\n"
          ],
          "name": "stdout"
        }
      ]
    },
    {
      "cell_type": "code",
      "metadata": {
        "id": "awhil2mQjwil",
        "colab_type": "code",
        "colab": {
          "base_uri": "https://localhost:8080/",
          "height": 799
        },
        "outputId": "1e362734-25b2-41f3-f14e-e58fc7f973dc"
      },
      "source": [
        "import pandas as pd\n",
        "df = pd.read_csv('/content/drive/My Drive/Fixy/ki_news_both.txt', sep= '\\t', error_bad_lines=False, engine='python', header=None)"
      ],
      "execution_count": 118,
      "outputs": [
        {
          "output_type": "stream",
          "text": [
            "Skipping line 30: '\t' expected after '\"'\n",
            "Skipping line 56: '\t' expected after '\"'\n",
            "Skipping line 87: '\t' expected after '\"'\n",
            "Skipping line 88: '\t' expected after '\"'\n",
            "Skipping line 92: '\t' expected after '\"'\n",
            "Skipping line 151: '\t' expected after '\"'\n",
            "Skipping line 201: '\t' expected after '\"'\n",
            "Skipping line 252: '\t' expected after '\"'\n",
            "Skipping line 261: '\t' expected after '\"'\n",
            "Skipping line 282: '\t' expected after '\"'\n",
            "Skipping line 295: '\t' expected after '\"'\n",
            "Skipping line 397: '\t' expected after '\"'\n",
            "Skipping line 400: '\t' expected after '\"'\n",
            "Skipping line 401: '\t' expected after '\"'\n",
            "Skipping line 402: '\t' expected after '\"'\n",
            "Skipping line 484: '\t' expected after '\"'\n",
            "Skipping line 507: '\t' expected after '\"'\n",
            "Skipping line 536: '\t' expected after '\"'\n",
            "Skipping line 583: '\t' expected after '\"'\n",
            "Skipping line 589: '\t' expected after '\"'\n",
            "Skipping line 595: '\t' expected after '\"'\n",
            "Skipping line 688: '\t' expected after '\"'\n",
            "Skipping line 820: '\t' expected after '\"'\n",
            "Skipping line 944: '\t' expected after '\"'\n",
            "Skipping line 1035: '\t' expected after '\"'\n",
            "Skipping line 1202: '\t' expected after '\"'\n",
            "Skipping line 1310: '\t' expected after '\"'\n",
            "Skipping line 1661: '\t' expected after '\"'\n",
            "Skipping line 1805: '\t' expected after '\"'\n",
            "Skipping line 1807: '\t' expected after '\"'\n",
            "Skipping line 1917: '\t' expected after '\"'\n",
            "Skipping line 1929: '\t' expected after '\"'\n",
            "Skipping line 2003: '\t' expected after '\"'\n",
            "Skipping line 2122: '\t' expected after '\"'\n",
            "Skipping line 2137: '\t' expected after '\"'\n",
            "Skipping line 2451: '\t' expected after '\"'\n",
            "Skipping line 2692: '\t' expected after '\"'\n",
            "Skipping line 2754: '\t' expected after '\"'\n",
            "Skipping line 2916: '\t' expected after '\"'\n",
            "Skipping line 2988: '\t' expected after '\"'\n",
            "Skipping line 3092: '\t' expected after '\"'\n",
            "Skipping line 3139: '\t' expected after '\"'\n",
            "Skipping line 3238: '\t' expected after '\"'\n",
            "Skipping line 3363: '\t' expected after '\"'\n",
            "Skipping line 3390: '\t' expected after '\"'\n"
          ],
          "name": "stderr"
        }
      ]
    },
    {
      "cell_type": "code",
      "metadata": {
        "id": "ODVlK3cSTH2e",
        "colab_type": "code",
        "colab": {}
      },
      "source": [
        "df[0] = df[2]\n",
        "del df[1]\n",
        "del df[2]"
      ],
      "execution_count": 119,
      "outputs": []
    },
    {
      "cell_type": "code",
      "metadata": {
        "id": "D3Mu6BnGVhuk",
        "colab_type": "code",
        "colab": {
          "base_uri": "https://localhost:8080/",
          "height": 206
        },
        "outputId": "ab1cfce9-ea2b-4002-d809-6862bcf2e8e9"
      },
      "source": [
        "df.head()"
      ],
      "execution_count": 120,
      "outputs": [
        {
          "output_type": "execute_result",
          "data": {
            "text/html": [
              "<div>\n",
              "<style scoped>\n",
              "    .dataframe tbody tr th:only-of-type {\n",
              "        vertical-align: middle;\n",
              "    }\n",
              "\n",
              "    .dataframe tbody tr th {\n",
              "        vertical-align: top;\n",
              "    }\n",
              "\n",
              "    .dataframe thead th {\n",
              "        text-align: right;\n",
              "    }\n",
              "</style>\n",
              "<table border=\"1\" class=\"dataframe\">\n",
              "  <thead>\n",
              "    <tr style=\"text-align: right;\">\n",
              "      <th></th>\n",
              "      <th>0</th>\n",
              "    </tr>\n",
              "  </thead>\n",
              "  <tbody>\n",
              "    <tr>\n",
              "      <th>0</th>\n",
              "      <td>apartman inşaatında çalışan iki taşralı işçidir .</td>\n",
              "    </tr>\n",
              "    <tr>\n",
              "      <th>1</th>\n",
              "      <td>korkup kaçmayı düşünen iki kafadar , Nizam</td>\n",
              "    </tr>\n",
              "    <tr>\n",
              "      <th>2</th>\n",
              "      <td>başlar . İnşaatın karşısındaki bir apartmandan...</td>\n",
              "    </tr>\n",
              "    <tr>\n",
              "      <th>3</th>\n",
              "      <td>geceyarısı gidip gelenler konusundaki kuşkular...</td>\n",
              "    </tr>\n",
              "    <tr>\n",
              "      <th>4</th>\n",
              "      <td>azdır ne yazık ki ! Ömer Vargı</td>\n",
              "    </tr>\n",
              "  </tbody>\n",
              "</table>\n",
              "</div>"
            ],
            "text/plain": [
              "                                                   0\n",
              "0  apartman inşaatında çalışan iki taşralı işçidir .\n",
              "1         korkup kaçmayı düşünen iki kafadar , Nizam\n",
              "2  başlar . İnşaatın karşısındaki bir apartmandan...\n",
              "3  geceyarısı gidip gelenler konusundaki kuşkular...\n",
              "4                     azdır ne yazık ki ! Ömer Vargı"
            ]
          },
          "metadata": {
            "tags": []
          },
          "execution_count": 120
        }
      ]
    },
    {
      "cell_type": "code",
      "metadata": {
        "id": "0gNBLq4nj-vF",
        "colab_type": "code",
        "colab": {
          "base_uri": "https://localhost:8080/",
          "height": 52
        },
        "outputId": "b6bee446-6d18-4847-c262-2d07bd462b01"
      },
      "source": [
        "da_both = df[df[0].str.contains(\"da \")]\n",
        "da_bitisik = da_both[~da_both[0].str.contains(\" da \")]\n",
        "da_ayrı = da_both[da_both[0].str.contains(\" da \")]\n",
        "da_bitisik.head()\n",
        "print(da_bitisik.shape)\n",
        "print(da_ayrı.shape)"
      ],
      "execution_count": 121,
      "outputs": [
        {
          "output_type": "stream",
          "text": [
            "(398, 1)\n",
            "(87, 1)\n"
          ],
          "name": "stdout"
        }
      ]
    },
    {
      "cell_type": "code",
      "metadata": {
        "id": "JzWM_unml7K5",
        "colab_type": "code",
        "colab": {
          "base_uri": "https://localhost:8080/",
          "height": 225
        },
        "outputId": "329139e6-9dec-4d86-ce42-4fa067beee6f"
      },
      "source": [
        "da_bitisik[0]= da_bitisik[0].str.replace(\"da \", \" X \", case = False) \n",
        "da_ayrı[0]= da_ayrı[0].str.replace(\" da \", \" X \", case = False) \n",
        "\n",
        "da_bitisik = da_bitisik[da_bitisik[0].str.split().str.len().lt(10)]\n",
        "da_ayrı = da_ayrı[da_ayrı[0].str.split().str.len().lt(10)]\n"
      ],
      "execution_count": 122,
      "outputs": [
        {
          "output_type": "stream",
          "text": [
            "/usr/local/lib/python3.6/dist-packages/ipykernel_launcher.py:1: SettingWithCopyWarning: \n",
            "A value is trying to be set on a copy of a slice from a DataFrame.\n",
            "Try using .loc[row_indexer,col_indexer] = value instead\n",
            "\n",
            "See the caveats in the documentation: https://pandas.pydata.org/pandas-docs/stable/user_guide/indexing.html#returning-a-view-versus-a-copy\n",
            "  \"\"\"Entry point for launching an IPython kernel.\n",
            "/usr/local/lib/python3.6/dist-packages/ipykernel_launcher.py:2: SettingWithCopyWarning: \n",
            "A value is trying to be set on a copy of a slice from a DataFrame.\n",
            "Try using .loc[row_indexer,col_indexer] = value instead\n",
            "\n",
            "See the caveats in the documentation: https://pandas.pydata.org/pandas-docs/stable/user_guide/indexing.html#returning-a-view-versus-a-copy\n",
            "  \n"
          ],
          "name": "stderr"
        }
      ]
    },
    {
      "cell_type": "code",
      "metadata": {
        "id": "X_XYDbDfnY3h",
        "colab_type": "code",
        "colab": {}
      },
      "source": [
        "da_bitisik = da_bitisik.sample(frac=1).reset_index(drop=True)\n",
        "da_ayrı = da_ayrı.sample(frac=1).reset_index(drop=True)"
      ],
      "execution_count": 123,
      "outputs": []
    },
    {
      "cell_type": "code",
      "metadata": {
        "id": "oGBJ1l6EmTrR",
        "colab_type": "code",
        "colab": {}
      },
      "source": [
        "da_bitisik = da_bitisik.sample(da_ayrı.shape[0]).reset_index(drop=True)"
      ],
      "execution_count": 124,
      "outputs": []
    },
    {
      "cell_type": "code",
      "metadata": {
        "id": "fqpXVt5ToDVl",
        "colab_type": "code",
        "colab": {
          "base_uri": "https://localhost:8080/",
          "height": 52
        },
        "outputId": "37a639e3-60d4-4d24-ad59-0410711832f2"
      },
      "source": [
        "print(da_ayrı.shape)\n",
        "print(da_bitisik.shape)"
      ],
      "execution_count": 125,
      "outputs": [
        {
          "output_type": "stream",
          "text": [
            "(86, 1)\n",
            "(86, 1)\n"
          ],
          "name": "stdout"
        }
      ]
    },
    {
      "cell_type": "code",
      "metadata": {
        "id": "zFHdUJTHn4ck",
        "colab_type": "code",
        "colab": {
          "base_uri": "https://localhost:8080/",
          "height": 260
        },
        "outputId": "de73fb29-e425-4b9c-ae02-85696c13cfc5"
      },
      "source": [
        "de_both = df[df[0].str.contains(\"de \")]\n",
        "de_bitisik = de_both[~de_both[0].str.contains(\" de \")]\n",
        "de_ayrı = de_both[de_both[0].str.contains(\" de \")]\n",
        "print(de_bitisik.shape)\n",
        "print(de_ayrı.shape)\n",
        "\n",
        "de_bitisik[0]= de_bitisik[0].str.replace(\"de \", \" X \", case = False) \n",
        "de_ayrı[0]= de_ayrı[0].str.replace(\" de \", \" X \", case = False) \n",
        "\n",
        "de_bitisik = de_bitisik[de_bitisik[0].str.split().str.len().lt(10)]\n",
        "de_ayrı = de_ayrı[de_ayrı[0].str.split().str.len().lt(10)]\n",
        "\n",
        "de_bitisik = de_bitisik.sample(frac=1).reset_index(drop=True)\n",
        "de_ayrı = de_ayrı.sample(frac=1).reset_index(drop=True)\n",
        "\n",
        "de_bitisik = de_bitisik.sample(de_ayrı.shape[0]).reset_index(drop=True)"
      ],
      "execution_count": 126,
      "outputs": [
        {
          "output_type": "stream",
          "text": [
            "(346, 1)\n",
            "(88, 1)\n"
          ],
          "name": "stdout"
        },
        {
          "output_type": "stream",
          "text": [
            "/usr/local/lib/python3.6/dist-packages/ipykernel_launcher.py:7: SettingWithCopyWarning: \n",
            "A value is trying to be set on a copy of a slice from a DataFrame.\n",
            "Try using .loc[row_indexer,col_indexer] = value instead\n",
            "\n",
            "See the caveats in the documentation: https://pandas.pydata.org/pandas-docs/stable/user_guide/indexing.html#returning-a-view-versus-a-copy\n",
            "  import sys\n",
            "/usr/local/lib/python3.6/dist-packages/ipykernel_launcher.py:8: SettingWithCopyWarning: \n",
            "A value is trying to be set on a copy of a slice from a DataFrame.\n",
            "Try using .loc[row_indexer,col_indexer] = value instead\n",
            "\n",
            "See the caveats in the documentation: https://pandas.pydata.org/pandas-docs/stable/user_guide/indexing.html#returning-a-view-versus-a-copy\n",
            "  \n"
          ],
          "name": "stderr"
        }
      ]
    },
    {
      "cell_type": "code",
      "metadata": {
        "id": "746uZM-y-yjU",
        "colab_type": "code",
        "colab": {
          "base_uri": "https://localhost:8080/",
          "height": 52
        },
        "outputId": "ede3f446-e82d-4633-9a59-9987366a3708"
      },
      "source": [
        "print(de_bitisik.shape)\n",
        "print(de_ayrı.shape)"
      ],
      "execution_count": 127,
      "outputs": [
        {
          "output_type": "stream",
          "text": [
            "(85, 1)\n",
            "(85, 1)\n"
          ],
          "name": "stdout"
        }
      ]
    },
    {
      "cell_type": "code",
      "metadata": {
        "id": "_CE4lumko4ZC",
        "colab_type": "code",
        "colab": {
          "base_uri": "https://localhost:8080/",
          "height": 363
        },
        "outputId": "8a86ddc5-012b-41bd-80fd-7e5166c73030"
      },
      "source": [
        "data_bitisik = pd.concat([da_bitisik, de_bitisik])\n",
        "data_bitisik = data_bitisik.sample(frac=1).reset_index(drop=True)\n",
        "data_bitisik.head(n=10)"
      ],
      "execution_count": 128,
      "outputs": [
        {
          "output_type": "execute_result",
          "data": {
            "text/html": [
              "<div>\n",
              "<style scoped>\n",
              "    .dataframe tbody tr th:only-of-type {\n",
              "        vertical-align: middle;\n",
              "    }\n",
              "\n",
              "    .dataframe tbody tr th {\n",
              "        vertical-align: top;\n",
              "    }\n",
              "\n",
              "    .dataframe thead th {\n",
              "        text-align: right;\n",
              "    }\n",
              "</style>\n",
              "<table border=\"1\" class=\"dataframe\">\n",
              "  <thead>\n",
              "    <tr style=\"text-align: right;\">\n",
              "      <th></th>\n",
              "      <th>0</th>\n",
              "    </tr>\n",
              "  </thead>\n",
              "  <tbody>\n",
              "    <tr>\n",
              "      <th>0</th>\n",
              "      <td>İzmir’ X evli ve iki çocuk sahibi R.</td>\n",
              "    </tr>\n",
              "    <tr>\n",
              "      <th>1</th>\n",
              "      <td>süre önce ABC televizyonundaki bir program X ,</td>\n",
              "    </tr>\n",
              "    <tr>\n",
              "      <th>2</th>\n",
              "      <td>uzay aracı ile içindeki personeline yardım X b...</td>\n",
              "    </tr>\n",
              "    <tr>\n",
              "      <th>3</th>\n",
              "      <td>GÖRÜŞÜ- Duruşma X esas hakkındaki görüşünü açı...</td>\n",
              "    </tr>\n",
              "    <tr>\n",
              "      <th>4</th>\n",
              "      <td>Miks’in dünya X ve Türkiye’deki gelişiminin ya...</td>\n",
              "    </tr>\n",
              "    <tr>\n",
              "      <th>5</th>\n",
              "      <td>X , kur tarafındaki rahatlatıcı etki sınırlı</td>\n",
              "    </tr>\n",
              "    <tr>\n",
              "      <th>6</th>\n",
              "      <td>çalışmalarını sürdürdüğü ve önümüzdeki günler ...</td>\n",
              "    </tr>\n",
              "    <tr>\n",
              "      <th>7</th>\n",
              "      <td>Raporu’n X , AKP iktidarındaki 2002-2009 dönem...</td>\n",
              "    </tr>\n",
              "    <tr>\n",
              "      <th>8</th>\n",
              "      <td>903+ , her iki yanın X yer alan</td>\n",
              "    </tr>\n",
              "    <tr>\n",
              "      <th>9</th>\n",
              "      <td>yılların X sürekli yoksulluk riski altın X ola...</td>\n",
              "    </tr>\n",
              "  </tbody>\n",
              "</table>\n",
              "</div>"
            ],
            "text/plain": [
              "                                                   0\n",
              "0               İzmir’ X evli ve iki çocuk sahibi R.\n",
              "1     süre önce ABC televizyonundaki bir program X ,\n",
              "2  uzay aracı ile içindeki personeline yardım X b...\n",
              "3  GÖRÜŞÜ- Duruşma X esas hakkındaki görüşünü açı...\n",
              "4  Miks’in dünya X ve Türkiye’deki gelişiminin ya...\n",
              "5       X , kur tarafındaki rahatlatıcı etki sınırlı\n",
              "6  çalışmalarını sürdürdüğü ve önümüzdeki günler ...\n",
              "7  Raporu’n X , AKP iktidarındaki 2002-2009 dönem...\n",
              "8                    903+ , her iki yanın X yer alan\n",
              "9  yılların X sürekli yoksulluk riski altın X ola..."
            ]
          },
          "metadata": {
            "tags": []
          },
          "execution_count": 128
        }
      ]
    },
    {
      "cell_type": "code",
      "metadata": {
        "id": "4WUamw2jte5J",
        "colab_type": "code",
        "colab": {
          "base_uri": "https://localhost:8080/",
          "height": 363
        },
        "outputId": "d8143ff3-9aad-4a77-a1f2-6516421af916"
      },
      "source": [
        "data_ayrı = pd.concat([da_ayrı, de_ayrı])\n",
        "data_ayrı = data_ayrı.sample(frac=1).reset_index(drop=True)\n",
        "data_ayrı.head(n=10)"
      ],
      "execution_count": 129,
      "outputs": [
        {
          "output_type": "execute_result",
          "data": {
            "text/html": [
              "<div>\n",
              "<style scoped>\n",
              "    .dataframe tbody tr th:only-of-type {\n",
              "        vertical-align: middle;\n",
              "    }\n",
              "\n",
              "    .dataframe tbody tr th {\n",
              "        vertical-align: top;\n",
              "    }\n",
              "\n",
              "    .dataframe thead th {\n",
              "        text-align: right;\n",
              "    }\n",
              "</style>\n",
              "<table border=\"1\" class=\"dataframe\">\n",
              "  <thead>\n",
              "    <tr style=\"text-align: right;\">\n",
              "      <th></th>\n",
              "      <th>0</th>\n",
              "    </tr>\n",
              "  </thead>\n",
              "  <tbody>\n",
              "    <tr>\n",
              "      <th>0</th>\n",
              "      <td>. ABD’li şirketlerin Türkiye’deki yatırımların...</td>\n",
              "    </tr>\n",
              "    <tr>\n",
              "      <th>1</th>\n",
              "      <td>ve JCR'dan sonra öceki gün X Standard</td>\n",
              "    </tr>\n",
              "    <tr>\n",
              "      <th>2</th>\n",
              "      <td>oyuncusuna X büyük tepki gösterdi . Emre</td>\n",
              "    </tr>\n",
              "    <tr>\n",
              "      <th>3</th>\n",
              "      <td>hoca tartışma nedeniyle iki oyuncusuna X büyük</td>\n",
              "    </tr>\n",
              "    <tr>\n",
              "      <th>4</th>\n",
              "      <td>kesilmeyen hak ihlallerinin belki X en açık</td>\n",
              "    </tr>\n",
              "    <tr>\n",
              "      <th>5</th>\n",
              "      <td>Dans Günü , Türkiye’deki sahnelere X sıçrayacak</td>\n",
              "    </tr>\n",
              "    <tr>\n",
              "      <th>6</th>\n",
              "      <td>TBMM'ye gelecek , belki X dokunulmazlığı kaldı...</td>\n",
              "    </tr>\n",
              "    <tr>\n",
              "      <th>7</th>\n",
              "      <td>Girişmen X ikinci sıradaki koltuğunu oldukça s...</td>\n",
              "    </tr>\n",
              "    <tr>\n",
              "      <th>8</th>\n",
              "      <td>ve belki X ülkedeki tüm kadınları 'Kurtuluş</td>\n",
              "    </tr>\n",
              "    <tr>\n",
              "      <th>9</th>\n",
              "      <td>memnun etmiştir . Önümüzdeki dönemde X bu</td>\n",
              "    </tr>\n",
              "  </tbody>\n",
              "</table>\n",
              "</div>"
            ],
            "text/plain": [
              "                                                   0\n",
              "0  . ABD’li şirketlerin Türkiye’deki yatırımların...\n",
              "1              ve JCR'dan sonra öceki gün X Standard\n",
              "2           oyuncusuna X büyük tepki gösterdi . Emre\n",
              "3     hoca tartışma nedeniyle iki oyuncusuna X büyük\n",
              "4        kesilmeyen hak ihlallerinin belki X en açık\n",
              "5    Dans Günü , Türkiye’deki sahnelere X sıçrayacak\n",
              "6  TBMM'ye gelecek , belki X dokunulmazlığı kaldı...\n",
              "7  Girişmen X ikinci sıradaki koltuğunu oldukça s...\n",
              "8        ve belki X ülkedeki tüm kadınları 'Kurtuluş\n",
              "9          memnun etmiştir . Önümüzdeki dönemde X bu"
            ]
          },
          "metadata": {
            "tags": []
          },
          "execution_count": 129
        }
      ]
    },
    {
      "cell_type": "code",
      "metadata": {
        "id": "99UeZkwjuZ7Q",
        "colab_type": "code",
        "colab": {}
      },
      "source": [
        "data_bitisik['y'] = 1\n",
        "data_ayrı['y'] = 0"
      ],
      "execution_count": 131,
      "outputs": []
    },
    {
      "cell_type": "code",
      "metadata": {
        "id": "3k3hqov8uy_N",
        "colab_type": "code",
        "colab": {
          "base_uri": "https://localhost:8080/",
          "height": 206
        },
        "outputId": "dbd33276-4fd6-4e7e-dce1-8243dcadc193"
      },
      "source": [
        "data_bitisik.head()"
      ],
      "execution_count": 132,
      "outputs": [
        {
          "output_type": "execute_result",
          "data": {
            "text/html": [
              "<div>\n",
              "<style scoped>\n",
              "    .dataframe tbody tr th:only-of-type {\n",
              "        vertical-align: middle;\n",
              "    }\n",
              "\n",
              "    .dataframe tbody tr th {\n",
              "        vertical-align: top;\n",
              "    }\n",
              "\n",
              "    .dataframe thead th {\n",
              "        text-align: right;\n",
              "    }\n",
              "</style>\n",
              "<table border=\"1\" class=\"dataframe\">\n",
              "  <thead>\n",
              "    <tr style=\"text-align: right;\">\n",
              "      <th></th>\n",
              "      <th>0</th>\n",
              "      <th>y</th>\n",
              "    </tr>\n",
              "  </thead>\n",
              "  <tbody>\n",
              "    <tr>\n",
              "      <th>0</th>\n",
              "      <td>şekil X açıkladı : 'Washington'daki her birim ...</td>\n",
              "      <td>1</td>\n",
              "    </tr>\n",
              "    <tr>\n",
              "      <th>1</th>\n",
              "      <td>. Orada gördük ki , Türkiye' X motif</td>\n",
              "      <td>1</td>\n",
              "    </tr>\n",
              "    <tr>\n",
              "      <th>2</th>\n",
              "      <td>alanda düzenlenecek . Kültürpark'taki Doğaltaş...</td>\n",
              "      <td>1</td>\n",
              "    </tr>\n",
              "    <tr>\n",
              "      <th>3</th>\n",
              "      <td>ihtimali yüz X 5. Oxford'daki John Radcliffe H...</td>\n",
              "      <td>1</td>\n",
              "    </tr>\n",
              "    <tr>\n",
              "      <th>4</th>\n",
              "      <td>eserler var . Önümüzdeki dönem X olacak tarihi</td>\n",
              "      <td>1</td>\n",
              "    </tr>\n",
              "  </tbody>\n",
              "</table>\n",
              "</div>"
            ],
            "text/plain": [
              "                                                   0  y\n",
              "0  şekil X açıkladı : 'Washington'daki her birim ...  1\n",
              "1               . Orada gördük ki , Türkiye' X motif  1\n",
              "2  alanda düzenlenecek . Kültürpark'taki Doğaltaş...  1\n",
              "3  ihtimali yüz X 5. Oxford'daki John Radcliffe H...  1\n",
              "4     eserler var . Önümüzdeki dönem X olacak tarihi  1"
            ]
          },
          "metadata": {
            "tags": []
          },
          "execution_count": 132
        }
      ]
    },
    {
      "cell_type": "code",
      "metadata": {
        "id": "0AIKUaxnu0mx",
        "colab_type": "code",
        "colab": {
          "base_uri": "https://localhost:8080/",
          "height": 677
        },
        "outputId": "f904575c-5a2b-462f-bb65-89c2f9d6c5a7"
      },
      "source": [
        "data_final = pd.concat([data_bitisik, data_ayrı])\n",
        "data_final = data_final.sample(frac=1).reset_index(drop=True)\n",
        "data_final.head(n=20)"
      ],
      "execution_count": 133,
      "outputs": [
        {
          "output_type": "execute_result",
          "data": {
            "text/html": [
              "<div>\n",
              "<style scoped>\n",
              "    .dataframe tbody tr th:only-of-type {\n",
              "        vertical-align: middle;\n",
              "    }\n",
              "\n",
              "    .dataframe tbody tr th {\n",
              "        vertical-align: top;\n",
              "    }\n",
              "\n",
              "    .dataframe thead th {\n",
              "        text-align: right;\n",
              "    }\n",
              "</style>\n",
              "<table border=\"1\" class=\"dataframe\">\n",
              "  <thead>\n",
              "    <tr style=\"text-align: right;\">\n",
              "      <th></th>\n",
              "      <th>0</th>\n",
              "      <th>y</th>\n",
              "    </tr>\n",
              "  </thead>\n",
              "  <tbody>\n",
              "    <tr>\n",
              "      <th>0</th>\n",
              "      <td>şekil X Ay'ın yüzeyini İstanbul'daki rasathane...</td>\n",
              "      <td>1</td>\n",
              "    </tr>\n",
              "    <tr>\n",
              "      <th>1</th>\n",
              "      <td>inceledikten sonra öğleden sonraki görüşmeleri...</td>\n",
              "      <td>1</td>\n",
              "    </tr>\n",
              "    <tr>\n",
              "      <th>2</th>\n",
              "      <td>15 dakika için X iki kere yüz X 100'lük</td>\n",
              "      <td>1</td>\n",
              "    </tr>\n",
              "    <tr>\n",
              "      <th>3</th>\n",
              "      <td>Fransa ligin X iki eski Beşiktaşlı oyuncuyu karşı</td>\n",
              "      <td>1</td>\n",
              "    </tr>\n",
              "    <tr>\n",
              "      <th>4</th>\n",
              "      <td>3 ana kategori X iki gün boyunca 132</td>\n",
              "      <td>1</td>\n",
              "    </tr>\n",
              "    <tr>\n",
              "      <th>5</th>\n",
              "      <td>iddia ... Nitekim iki otel X pek</td>\n",
              "      <td>0</td>\n",
              "    </tr>\n",
              "    <tr>\n",
              "      <th>6</th>\n",
              "      <td>. Belki X filmdeki karakterden etkilenerek ara</td>\n",
              "      <td>0</td>\n",
              "    </tr>\n",
              "    <tr>\n",
              "      <th>7</th>\n",
              "      <td>. Şimdi diyorlar ki Hitler X sandıktan</td>\n",
              "      <td>0</td>\n",
              "    </tr>\n",
              "    <tr>\n",
              "      <th>8</th>\n",
              "      <td>Brüksel X olduğu için önümüzdeki hafta bu konuyu</td>\n",
              "      <td>1</td>\n",
              "    </tr>\n",
              "    <tr>\n",
              "      <th>9</th>\n",
              "      <td>haritasıdır . İnşallah önümüzdeki günler X 3. ...</td>\n",
              "      <td>1</td>\n",
              "    </tr>\n",
              "    <tr>\n",
              "      <th>10</th>\n",
              "      <td>çağırdı . Küçük yaştaki çocuklarını ev X bırak...</td>\n",
              "      <td>1</td>\n",
              "    </tr>\n",
              "    <tr>\n",
              "      <th>11</th>\n",
              "      <td>X , kur tarafındaki rahatlatıcı etki sınırlı</td>\n",
              "      <td>1</td>\n",
              "    </tr>\n",
              "    <tr>\n",
              "      <th>12</th>\n",
              "      <td>Tanpınar'ın kışkırtıcı sorusu belki X en çok</td>\n",
              "      <td>0</td>\n",
              "    </tr>\n",
              "    <tr>\n",
              "      <th>13</th>\n",
              "      <td>ürünler listesin X \" wiski , hazır mezeler</td>\n",
              "      <td>1</td>\n",
              "    </tr>\n",
              "    <tr>\n",
              "      <th>14</th>\n",
              "      <td>Gürsel Tekin ve beraberindeki milletvekilleri ...</td>\n",
              "      <td>0</td>\n",
              "    </tr>\n",
              "    <tr>\n",
              "      <th>15</th>\n",
              "      <td>memnun etmiştir . Önümüzdeki dönemde X bu</td>\n",
              "      <td>0</td>\n",
              "    </tr>\n",
              "    <tr>\n",
              "      <th>16</th>\n",
              "      <td>olarak algıladığı ve tepki gösterdiği X aktarıldı</td>\n",
              "      <td>0</td>\n",
              "    </tr>\n",
              "    <tr>\n",
              "      <th>17</th>\n",
              "      <td>. Gelişmiş ülkeler X önümüzdeki dönemler X büy...</td>\n",
              "      <td>1</td>\n",
              "    </tr>\n",
              "    <tr>\n",
              "      <th>18</th>\n",
              "      <td>direnci üzerin X olumlu etki sağladığına dikka...</td>\n",
              "      <td>1</td>\n",
              "    </tr>\n",
              "    <tr>\n",
              "      <th>19</th>\n",
              "      <td>sabaha gelindiğin X ise dolardaki düşüş devam ...</td>\n",
              "      <td>1</td>\n",
              "    </tr>\n",
              "  </tbody>\n",
              "</table>\n",
              "</div>"
            ],
            "text/plain": [
              "                                                    0  y\n",
              "0   şekil X Ay'ın yüzeyini İstanbul'daki rasathane...  1\n",
              "1   inceledikten sonra öğleden sonraki görüşmeleri...  1\n",
              "2             15 dakika için X iki kere yüz X 100'lük  1\n",
              "3   Fransa ligin X iki eski Beşiktaşlı oyuncuyu karşı  1\n",
              "4                3 ana kategori X iki gün boyunca 132  1\n",
              "5                    iddia ... Nitekim iki otel X pek  0\n",
              "6      . Belki X filmdeki karakterden etkilenerek ara  0\n",
              "7              . Şimdi diyorlar ki Hitler X sandıktan  0\n",
              "8    Brüksel X olduğu için önümüzdeki hafta bu konuyu  1\n",
              "9   haritasıdır . İnşallah önümüzdeki günler X 3. ...  1\n",
              "10  çağırdı . Küçük yaştaki çocuklarını ev X bırak...  1\n",
              "11       X , kur tarafındaki rahatlatıcı etki sınırlı  1\n",
              "12       Tanpınar'ın kışkırtıcı sorusu belki X en çok  0\n",
              "13         ürünler listesin X \" wiski , hazır mezeler  1\n",
              "14  Gürsel Tekin ve beraberindeki milletvekilleri ...  0\n",
              "15          memnun etmiştir . Önümüzdeki dönemde X bu  0\n",
              "16  olarak algıladığı ve tepki gösterdiği X aktarıldı  0\n",
              "17  . Gelişmiş ülkeler X önümüzdeki dönemler X büy...  1\n",
              "18  direnci üzerin X olumlu etki sağladığına dikka...  1\n",
              "19  sabaha gelindiğin X ise dolardaki düşüş devam ...  1"
            ]
          },
          "metadata": {
            "tags": []
          },
          "execution_count": 133
        }
      ]
    },
    {
      "cell_type": "code",
      "metadata": {
        "id": "ChRw-Z8NvNXd",
        "colab_type": "code",
        "colab": {}
      },
      "source": [
        "data_final = data_final.rename(columns={0: 'line'})"
      ],
      "execution_count": 134,
      "outputs": []
    },
    {
      "cell_type": "code",
      "metadata": {
        "id": "5hDu3JLmveAB",
        "colab_type": "code",
        "colab": {
          "base_uri": "https://localhost:8080/",
          "height": 34
        },
        "outputId": "89fe2742-e692-4f6b-a53b-a9933117c109"
      },
      "source": [
        "print(data_final.shape)"
      ],
      "execution_count": 135,
      "outputs": [
        {
          "output_type": "stream",
          "text": [
            "(170, 2)\n"
          ],
          "name": "stdout"
        }
      ]
    },
    {
      "cell_type": "code",
      "metadata": {
        "id": "qA8bHFGfvf_8",
        "colab_type": "code",
        "colab": {}
      },
      "source": [
        "data_final.to_csv('/content/drive/My Drive/Fixy/ki_data_news_final_X.csv', encoding='utf-8', index=False)\n"
      ],
      "execution_count": 136,
      "outputs": []
    },
    {
      "cell_type": "code",
      "metadata": {
        "id": "5iLI4Nnk95oV",
        "colab_type": "code",
        "colab": {}
      },
      "source": [
        ""
      ],
      "execution_count": 136,
      "outputs": []
    }
  ]
}