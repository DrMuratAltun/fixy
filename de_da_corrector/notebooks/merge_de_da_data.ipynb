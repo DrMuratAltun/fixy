{
  "nbformat": 4,
  "nbformat_minor": 0,
  "metadata": {
    "colab": {
      "name": "merge_de_da_data.ipynb",
      "provenance": []
    },
    "kernelspec": {
      "name": "python3",
      "display_name": "Python 3"
    }
  },
  "cells": [
    {
      "cell_type": "code",
      "metadata": {
        "id": "y4wKv9ilXpt7",
        "colab_type": "code",
        "colab": {
          "base_uri": "https://localhost:8080/",
          "height": 124
        },
        "outputId": "8a3ef9fd-bcce-4993-d08f-4d1fda83105d"
      },
      "source": [
        "from google.colab import drive\n",
        "drive.mount('/content/drive')"
      ],
      "execution_count": 1,
      "outputs": [
        {
          "output_type": "stream",
          "text": [
            "Go to this URL in a browser: https://accounts.google.com/o/oauth2/auth?client_id=947318989803-6bn6qk8qdgf4n4g3pfee6491hc0brc4i.apps.googleusercontent.com&redirect_uri=urn%3aietf%3awg%3aoauth%3a2.0%3aoob&response_type=code&scope=email%20https%3a%2f%2fwww.googleapis.com%2fauth%2fdocs.test%20https%3a%2f%2fwww.googleapis.com%2fauth%2fdrive%20https%3a%2f%2fwww.googleapis.com%2fauth%2fdrive.photos.readonly%20https%3a%2f%2fwww.googleapis.com%2fauth%2fpeopleapi.readonly\n",
            "\n",
            "Enter your authorization code:\n",
            "··········\n",
            "Mounted at /content/drive\n"
          ],
          "name": "stdout"
        }
      ]
    },
    {
      "cell_type": "code",
      "metadata": {
        "id": "uEAcmiydX040",
        "colab_type": "code",
        "colab": {}
      },
      "source": [
        "import pandas as pd\n",
        "data_subtitle = pd.read_csv('/content/drive/My Drive/Fixy/data_subtitle_final_X.csv')\n",
        "data_wiki = pd.read_csv('/content/drive/My Drive/Fixy/data_wiki_final_X.csv')\n",
        "data_news = pd.read_csv('/content/drive/My Drive/Fixy/dade_data_news_final_X.csv')"
      ],
      "execution_count": 2,
      "outputs": []
    },
    {
      "cell_type": "code",
      "metadata": {
        "id": "7uDD7iz1Y80Y",
        "colab_type": "code",
        "colab": {
          "base_uri": "https://localhost:8080/",
          "height": 380
        },
        "outputId": "c443f905-7d63-4eb8-e99c-b771ce3557ee"
      },
      "source": [
        "print(data_subtitle.shape)\n",
        "data_subtitle.head(n=10)"
      ],
      "execution_count": 9,
      "outputs": [
        {
          "output_type": "stream",
          "text": [
            "(3027362, 2)\n"
          ],
          "name": "stdout"
        },
        {
          "output_type": "execute_result",
          "data": {
            "text/html": [
              "<div>\n",
              "<style scoped>\n",
              "    .dataframe tbody tr th:only-of-type {\n",
              "        vertical-align: middle;\n",
              "    }\n",
              "\n",
              "    .dataframe tbody tr th {\n",
              "        vertical-align: top;\n",
              "    }\n",
              "\n",
              "    .dataframe thead th {\n",
              "        text-align: right;\n",
              "    }\n",
              "</style>\n",
              "<table border=\"1\" class=\"dataframe\">\n",
              "  <thead>\n",
              "    <tr style=\"text-align: right;\">\n",
              "      <th></th>\n",
              "      <th>line</th>\n",
              "      <th>y</th>\n",
              "    </tr>\n",
              "  </thead>\n",
              "  <tbody>\n",
              "    <tr>\n",
              "      <th>0</th>\n",
              "      <td>Enin X sonunda herkes bir noktada buluşur.</td>\n",
              "      <td>1</td>\n",
              "    </tr>\n",
              "    <tr>\n",
              "      <th>1</th>\n",
              "      <td>Ama ora X gallivanting mesgul.</td>\n",
              "      <td>1</td>\n",
              "    </tr>\n",
              "    <tr>\n",
              "      <th>2</th>\n",
              "      <td>Ve zamanı gelince benim X yerime başkası geçti.</td>\n",
              "      <td>0</td>\n",
              "    </tr>\n",
              "    <tr>\n",
              "      <th>3</th>\n",
              "      <td>Sadece bir tane var o X bende.</td>\n",
              "      <td>0</td>\n",
              "    </tr>\n",
              "    <tr>\n",
              "      <th>4</th>\n",
              "      <td>Voldemort ilk yükseldiğin X çok modaydılar.</td>\n",
              "      <td>1</td>\n",
              "    </tr>\n",
              "    <tr>\n",
              "      <th>5</th>\n",
              "      <td>Daha fazlasını yapacaksın. Sonra hep ön X olac...</td>\n",
              "      <td>1</td>\n",
              "    </tr>\n",
              "    <tr>\n",
              "      <th>6</th>\n",
              "      <td>Bir o X dolusu kadın beni isteyecekse varım.</td>\n",
              "      <td>1</td>\n",
              "    </tr>\n",
              "    <tr>\n",
              "      <th>7</th>\n",
              "      <td>Bir an X işler pek de mükemmel görünmemeye baş...</td>\n",
              "      <td>1</td>\n",
              "    </tr>\n",
              "    <tr>\n",
              "      <th>8</th>\n",
              "      <td>Trambolin X zıplıyordu, düştü.</td>\n",
              "      <td>1</td>\n",
              "    </tr>\n",
              "    <tr>\n",
              "      <th>9</th>\n",
              "      <td>Bu Ateş Mağarası X neyin nesi?</td>\n",
              "      <td>0</td>\n",
              "    </tr>\n",
              "  </tbody>\n",
              "</table>\n",
              "</div>"
            ],
            "text/plain": [
              "                                                line  y\n",
              "0         Enin X sonunda herkes bir noktada buluşur.  1\n",
              "1                     Ama ora X gallivanting mesgul.  1\n",
              "2    Ve zamanı gelince benim X yerime başkası geçti.  0\n",
              "3                     Sadece bir tane var o X bende.  0\n",
              "4        Voldemort ilk yükseldiğin X çok modaydılar.  1\n",
              "5  Daha fazlasını yapacaksın. Sonra hep ön X olac...  1\n",
              "6       Bir o X dolusu kadın beni isteyecekse varım.  1\n",
              "7  Bir an X işler pek de mükemmel görünmemeye baş...  1\n",
              "8                     Trambolin X zıplıyordu, düştü.  1\n",
              "9                     Bu Ateş Mağarası X neyin nesi?  0"
            ]
          },
          "metadata": {
            "tags": []
          },
          "execution_count": 9
        }
      ]
    },
    {
      "cell_type": "code",
      "metadata": {
        "id": "nrcNCOrjY_pz",
        "colab_type": "code",
        "colab": {
          "base_uri": "https://localhost:8080/",
          "height": 380
        },
        "outputId": "0d18014e-46e1-4bd8-9a96-50d38f442eb4"
      },
      "source": [
        "print(data_wiki.shape)\n",
        "data_wiki.head(n=10)"
      ],
      "execution_count": 10,
      "outputs": [
        {
          "output_type": "stream",
          "text": [
            "(567051, 2)\n"
          ],
          "name": "stdout"
        },
        {
          "output_type": "execute_result",
          "data": {
            "text/html": [
              "<div>\n",
              "<style scoped>\n",
              "    .dataframe tbody tr th:only-of-type {\n",
              "        vertical-align: middle;\n",
              "    }\n",
              "\n",
              "    .dataframe tbody tr th {\n",
              "        vertical-align: top;\n",
              "    }\n",
              "\n",
              "    .dataframe thead th {\n",
              "        text-align: right;\n",
              "    }\n",
              "</style>\n",
              "<table border=\"1\" class=\"dataframe\">\n",
              "  <thead>\n",
              "    <tr style=\"text-align: right;\">\n",
              "      <th></th>\n",
              "      <th>line</th>\n",
              "      <th>y</th>\n",
              "    </tr>\n",
              "  </thead>\n",
              "  <tbody>\n",
              "    <tr>\n",
              "      <th>0</th>\n",
              "      <td>ve 1980'li yıllar X popüler olan elektronik</td>\n",
              "      <td>1</td>\n",
              "    </tr>\n",
              "    <tr>\n",
              "      <th>1</th>\n",
              "      <td>oturma yerleri ya X gradenler yükselir .</td>\n",
              "      <td>0</td>\n",
              "    </tr>\n",
              "    <tr>\n",
              "      <th>2</th>\n",
              "      <td>oyun kurucuları arasın X gösteriliyordu . Aynı</td>\n",
              "      <td>1</td>\n",
              "    </tr>\n",
              "    <tr>\n",
              "      <th>3</th>\n",
              "      <td>yazdı . 1928' X Marktredwitz'de öldü ve</td>\n",
              "      <td>1</td>\n",
              "    </tr>\n",
              "    <tr>\n",
              "      <th>4</th>\n",
              "      <td>Almanya'nın birçok bölgesin X inşa ettiği kilise</td>\n",
              "      <td>1</td>\n",
              "    </tr>\n",
              "    <tr>\n",
              "      <th>5</th>\n",
              "      <td>buluşma ve kutlamaların X düzenlenebildiği bir...</td>\n",
              "      <td>0</td>\n",
              "    </tr>\n",
              "    <tr>\n",
              "      <th>6</th>\n",
              "      <td>1939 ) daha X arttı . Tahtadan</td>\n",
              "      <td>0</td>\n",
              "    </tr>\n",
              "    <tr>\n",
              "      <th>7</th>\n",
              "      <td>yazılımlar geliştirilmeye başlansa X ; gelinen...</td>\n",
              "      <td>0</td>\n",
              "    </tr>\n",
              "    <tr>\n",
              "      <th>8</th>\n",
              "      <td>1939 yılları arasın X idarecilik kariyerinde s...</td>\n",
              "      <td>1</td>\n",
              "    </tr>\n",
              "    <tr>\n",
              "      <th>9</th>\n",
              "      <td>Mario Carrillo yönetimin X 2005 Clausura sezou...</td>\n",
              "      <td>1</td>\n",
              "    </tr>\n",
              "  </tbody>\n",
              "</table>\n",
              "</div>"
            ],
            "text/plain": [
              "                                                line  y\n",
              "0        ve 1980'li yıllar X popüler olan elektronik  1\n",
              "1           oturma yerleri ya X gradenler yükselir .  0\n",
              "2     oyun kurucuları arasın X gösteriliyordu . Aynı  1\n",
              "3            yazdı . 1928' X Marktredwitz'de öldü ve  1\n",
              "4   Almanya'nın birçok bölgesin X inşa ettiği kilise  1\n",
              "5  buluşma ve kutlamaların X düzenlenebildiği bir...  0\n",
              "6                     1939 ) daha X arttı . Tahtadan  0\n",
              "7  yazılımlar geliştirilmeye başlansa X ; gelinen...  0\n",
              "8  1939 yılları arasın X idarecilik kariyerinde s...  1\n",
              "9  Mario Carrillo yönetimin X 2005 Clausura sezou...  1"
            ]
          },
          "metadata": {
            "tags": []
          },
          "execution_count": 10
        }
      ]
    },
    {
      "cell_type": "code",
      "metadata": {
        "id": "EXEaRpEWZFhB",
        "colab_type": "code",
        "colab": {
          "base_uri": "https://localhost:8080/",
          "height": 380
        },
        "outputId": "583f76fe-bfe5-4179-e6a4-5eee7daa4135"
      },
      "source": [
        "print(data_news.shape)\n",
        "data_news.head(n=10)"
      ],
      "execution_count": 11,
      "outputs": [
        {
          "output_type": "stream",
          "text": [
            "(10816, 2)\n"
          ],
          "name": "stdout"
        },
        {
          "output_type": "execute_result",
          "data": {
            "text/html": [
              "<div>\n",
              "<style scoped>\n",
              "    .dataframe tbody tr th:only-of-type {\n",
              "        vertical-align: middle;\n",
              "    }\n",
              "\n",
              "    .dataframe tbody tr th {\n",
              "        vertical-align: top;\n",
              "    }\n",
              "\n",
              "    .dataframe thead th {\n",
              "        text-align: right;\n",
              "    }\n",
              "</style>\n",
              "<table border=\"1\" class=\"dataframe\">\n",
              "  <thead>\n",
              "    <tr style=\"text-align: right;\">\n",
              "      <th></th>\n",
              "      <th>line</th>\n",
              "      <th>y</th>\n",
              "    </tr>\n",
              "  </thead>\n",
              "  <tbody>\n",
              "    <tr>\n",
              "      <th>0</th>\n",
              "      <td>özellikle İnsan Hakları konusun X hızı bir türlü</td>\n",
              "      <td>1</td>\n",
              "    </tr>\n",
              "    <tr>\n",
              "      <th>1</th>\n",
              "      <td>yetkilendirilmiş Cumhuriyet savcılarının nezar...</td>\n",
              "      <td>1</td>\n",
              "    </tr>\n",
              "    <tr>\n",
              "      <th>2</th>\n",
              "      <td>Onca yıl modanın için X kal , piş</td>\n",
              "      <td>1</td>\n",
              "    </tr>\n",
              "    <tr>\n",
              "      <th>3</th>\n",
              "      <td>vurgu yaptığı haber analiz X “ Türkiye’nin kek...</td>\n",
              "      <td>1</td>\n",
              "    </tr>\n",
              "    <tr>\n",
              "      <th>4</th>\n",
              "      <td>orta ve uzun dönem X daha da sağlamlaştıracak</td>\n",
              "      <td>1</td>\n",
              "    </tr>\n",
              "    <tr>\n",
              "      <th>5</th>\n",
              "      <td>dış hat uçuşlar X yüzde 26 oldu .</td>\n",
              "      <td>1</td>\n",
              "    </tr>\n",
              "    <tr>\n",
              "      <th>6</th>\n",
              "      <td>kendisi bugün X aramızda olsaydı . Türkler</td>\n",
              "      <td>0</td>\n",
              "    </tr>\n",
              "    <tr>\n",
              "      <th>7</th>\n",
              "      <td>, işçilerin profillerini X değiştirdi . Yeni</td>\n",
              "      <td>0</td>\n",
              "    </tr>\n",
              "    <tr>\n",
              "      <th>8</th>\n",
              "      <td>hazırlattıkları değişiklik metinlerini X dikka...</td>\n",
              "      <td>0</td>\n",
              "    </tr>\n",
              "    <tr>\n",
              "      <th>9</th>\n",
              "      <td>küçük Santa Maria kentin X üslendi . Mahkemede</td>\n",
              "      <td>1</td>\n",
              "    </tr>\n",
              "  </tbody>\n",
              "</table>\n",
              "</div>"
            ],
            "text/plain": [
              "                                                line  y\n",
              "0   özellikle İnsan Hakları konusun X hızı bir türlü  1\n",
              "1  yetkilendirilmiş Cumhuriyet savcılarının nezar...  1\n",
              "2                  Onca yıl modanın için X kal , piş  1\n",
              "3  vurgu yaptığı haber analiz X “ Türkiye’nin kek...  1\n",
              "4      orta ve uzun dönem X daha da sağlamlaştıracak  1\n",
              "5                  dış hat uçuşlar X yüzde 26 oldu .  1\n",
              "6         kendisi bugün X aramızda olsaydı . Türkler  0\n",
              "7       , işçilerin profillerini X değiştirdi . Yeni  0\n",
              "8  hazırlattıkları değişiklik metinlerini X dikka...  0\n",
              "9     küçük Santa Maria kentin X üslendi . Mahkemede  1"
            ]
          },
          "metadata": {
            "tags": []
          },
          "execution_count": 11
        }
      ]
    },
    {
      "cell_type": "code",
      "metadata": {
        "id": "GHMq0tfyZdlb",
        "colab_type": "code",
        "colab": {
          "base_uri": "https://localhost:8080/",
          "height": 380
        },
        "outputId": "eea8d84b-97da-40bd-80e9-f88915f716e8"
      },
      "source": [
        "data = pd.concat([data_news, data_wiki, data_subtitle])\n",
        "data = data.sample(frac=1).reset_index(drop=True)\n",
        "data['line'] = data['line'].str.lower() \n",
        "print(data.shape)\n",
        "data.head(n=10)"
      ],
      "execution_count": 14,
      "outputs": [
        {
          "output_type": "stream",
          "text": [
            "(3605229, 2)\n"
          ],
          "name": "stdout"
        },
        {
          "output_type": "execute_result",
          "data": {
            "text/html": [
              "<div>\n",
              "<style scoped>\n",
              "    .dataframe tbody tr th:only-of-type {\n",
              "        vertical-align: middle;\n",
              "    }\n",
              "\n",
              "    .dataframe tbody tr th {\n",
              "        vertical-align: top;\n",
              "    }\n",
              "\n",
              "    .dataframe thead th {\n",
              "        text-align: right;\n",
              "    }\n",
              "</style>\n",
              "<table border=\"1\" class=\"dataframe\">\n",
              "  <thead>\n",
              "    <tr style=\"text-align: right;\">\n",
              "      <th></th>\n",
              "      <th>line</th>\n",
              "      <th>y</th>\n",
              "    </tr>\n",
              "  </thead>\n",
              "  <tbody>\n",
              "    <tr>\n",
              "      <th>0</th>\n",
              "      <td>bunun x baş parmağı yok.</td>\n",
              "      <td>0</td>\n",
              "    </tr>\n",
              "    <tr>\n",
              "      <th>1</th>\n",
              "      <td>- bren x leigh.</td>\n",
              "      <td>1</td>\n",
              "    </tr>\n",
              "    <tr>\n",
              "      <th>2</th>\n",
              "      <td>ya şimdi buradan defolursunuz ya x karşınızda ...</td>\n",
              "      <td>0</td>\n",
              "    </tr>\n",
              "    <tr>\n",
              "      <th>3</th>\n",
              "      <td>öyle x diyebiliriz.</td>\n",
              "      <td>0</td>\n",
              "    </tr>\n",
              "    <tr>\n",
              "      <th>4</th>\n",
              "      <td>kırmızıydı, ora x duruyor işte.</td>\n",
              "      <td>1</td>\n",
              "    </tr>\n",
              "    <tr>\n",
              "      <th>5</th>\n",
              "      <td>belki x başka bir yere gitmeliyiz, hayatım.</td>\n",
              "      <td>0</td>\n",
              "    </tr>\n",
              "    <tr>\n",
              "      <th>6</th>\n",
              "      <td>belli bir düzey x ortak çaba ve</td>\n",
              "      <td>1</td>\n",
              "    </tr>\n",
              "    <tr>\n",
              "      <th>7</th>\n",
              "      <td>sonraki yarış hakkın x ne düşünüyorsun?</td>\n",
              "      <td>1</td>\n",
              "    </tr>\n",
              "    <tr>\n",
              "      <th>8</th>\n",
              "      <td>her iki kuruma x sadık yerlilerin gözüne</td>\n",
              "      <td>0</td>\n",
              "    </tr>\n",
              "    <tr>\n",
              "      <th>9</th>\n",
              "      <td>ders programının dışın x olduğunu söyleyebilir...</td>\n",
              "      <td>1</td>\n",
              "    </tr>\n",
              "  </tbody>\n",
              "</table>\n",
              "</div>"
            ],
            "text/plain": [
              "                                                line  y\n",
              "0                           bunun x baş parmağı yok.  0\n",
              "1                                    - bren x leigh.  1\n",
              "2  ya şimdi buradan defolursunuz ya x karşınızda ...  0\n",
              "3                                öyle x diyebiliriz.  0\n",
              "4                    kırmızıydı, ora x duruyor işte.  1\n",
              "5        belki x başka bir yere gitmeliyiz, hayatım.  0\n",
              "6                    belli bir düzey x ortak çaba ve  1\n",
              "7            sonraki yarış hakkın x ne düşünüyorsun?  1\n",
              "8           her iki kuruma x sadık yerlilerin gözüne  0\n",
              "9  ders programının dışın x olduğunu söyleyebilir...  1"
            ]
          },
          "metadata": {
            "tags": []
          },
          "execution_count": 14
        }
      ]
    },
    {
      "cell_type": "code",
      "metadata": {
        "id": "Ip5qz7UwZoIB",
        "colab_type": "code",
        "colab": {}
      },
      "source": [
        "data.to_csv('/content/drive/My Drive/Fixy/merged_de_da_final_X.csv', encoding='utf-8', index=False)"
      ],
      "execution_count": 15,
      "outputs": []
    }
  ]
}