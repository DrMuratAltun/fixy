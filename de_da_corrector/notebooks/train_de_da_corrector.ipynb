{
  "nbformat": 4,
  "nbformat_minor": 0,
  "metadata": {
    "colab": {
      "name": "train_de_da_corrector.ipynb",
      "provenance": []
    },
    "kernelspec": {
      "name": "python3",
      "display_name": "Python 3"
    },
    "accelerator": "GPU"
  },
  "cells": [
    {
      "cell_type": "code",
      "metadata": {
        "id": "bkCuKN8ubAH3",
        "colab_type": "code",
        "colab": {}
      },
      "source": [
        "#Imports\n",
        "from google.colab import drive\n",
        "import pandas as pd\n",
        "import keras\n",
        "import pickle\n",
        "from keras.preprocessing.text import Tokenizer\n",
        "from keras.preprocessing.sequence import pad_sequences\n",
        "from sklearn.model_selection import train_test_split\n",
        "import tensorflow as tf\n",
        "from keras.layers import Dense, LSTM, Flatten, Embedding, Dropout , Activation, GRU, Flatten, Input, Bidirectional, GlobalMaxPool1D, Convolution1D, TimeDistributed, Bidirectional\n",
        "from keras.layers.embeddings import Embedding\n",
        "from keras.models import Model, Sequential\n",
        "from keras import initializers, regularizers, constraints, optimizers, layers"
      ],
      "execution_count": 61,
      "outputs": []
    },
    {
      "cell_type": "code",
      "metadata": {
        "id": "T0eFR15Hbzas",
        "colab_type": "code",
        "colab": {
          "base_uri": "https://localhost:8080/",
          "height": 34
        },
        "outputId": "8ae857b6-ac5b-4325-b0f0-46c30136a42c"
      },
      "source": [
        "drive.mount('/content/drive')"
      ],
      "execution_count": 15,
      "outputs": [
        {
          "output_type": "stream",
          "text": [
            "Drive already mounted at /content/drive; to attempt to forcibly remount, call drive.mount(\"/content/drive\", force_remount=True).\n"
          ],
          "name": "stdout"
        }
      ]
    },
    {
      "cell_type": "code",
      "metadata": {
        "id": "8-BPX-nUajfx",
        "colab_type": "code",
        "colab": {
          "base_uri": "https://localhost:8080/",
          "height": 224
        },
        "outputId": "b731e0d3-91f6-48b9-dbb6-3ca948e94c15"
      },
      "source": [
        "data = pd.read_csv('/content/drive/My Drive/Fixy/merged_de_da_final_X.csv')\n",
        "print(data.shape)\n",
        "data.head()"
      ],
      "execution_count": 101,
      "outputs": [
        {
          "output_type": "stream",
          "text": [
            "(3605229, 2)\n"
          ],
          "name": "stdout"
        },
        {
          "output_type": "execute_result",
          "data": {
            "text/html": [
              "<div>\n",
              "<style scoped>\n",
              "    .dataframe tbody tr th:only-of-type {\n",
              "        vertical-align: middle;\n",
              "    }\n",
              "\n",
              "    .dataframe tbody tr th {\n",
              "        vertical-align: top;\n",
              "    }\n",
              "\n",
              "    .dataframe thead th {\n",
              "        text-align: right;\n",
              "    }\n",
              "</style>\n",
              "<table border=\"1\" class=\"dataframe\">\n",
              "  <thead>\n",
              "    <tr style=\"text-align: right;\">\n",
              "      <th></th>\n",
              "      <th>line</th>\n",
              "      <th>y</th>\n",
              "    </tr>\n",
              "  </thead>\n",
              "  <tbody>\n",
              "    <tr>\n",
              "      <th>0</th>\n",
              "      <td>bunun x baş parmağı yok.</td>\n",
              "      <td>0</td>\n",
              "    </tr>\n",
              "    <tr>\n",
              "      <th>1</th>\n",
              "      <td>- bren x leigh.</td>\n",
              "      <td>1</td>\n",
              "    </tr>\n",
              "    <tr>\n",
              "      <th>2</th>\n",
              "      <td>ya şimdi buradan defolursunuz ya x karşınızda ...</td>\n",
              "      <td>0</td>\n",
              "    </tr>\n",
              "    <tr>\n",
              "      <th>3</th>\n",
              "      <td>öyle x diyebiliriz.</td>\n",
              "      <td>0</td>\n",
              "    </tr>\n",
              "    <tr>\n",
              "      <th>4</th>\n",
              "      <td>kırmızıydı, ora x duruyor işte.</td>\n",
              "      <td>1</td>\n",
              "    </tr>\n",
              "  </tbody>\n",
              "</table>\n",
              "</div>"
            ],
            "text/plain": [
              "                                                line  y\n",
              "0                           bunun x baş parmağı yok.  0\n",
              "1                                    - bren x leigh.  1\n",
              "2  ya şimdi buradan defolursunuz ya x karşınızda ...  0\n",
              "3                                öyle x diyebiliriz.  0\n",
              "4                    kırmızıydı, ora x duruyor işte.  1"
            ]
          },
          "metadata": {
            "tags": []
          },
          "execution_count": 101
        }
      ]
    },
    {
      "cell_type": "code",
      "metadata": {
        "id": "2FKNawr0bMnu",
        "colab_type": "code",
        "colab": {}
      },
      "source": [
        "X = data['line']\n",
        "y = data['y']"
      ],
      "execution_count": 102,
      "outputs": []
    },
    {
      "cell_type": "code",
      "metadata": {
        "id": "o138bI6dazXo",
        "colab_type": "code",
        "colab": {}
      },
      "source": [
        "vocab_size = 15000\n",
        "tokenizer = Tokenizer(vocab_size)\n",
        "tokenizer.fit_on_texts(X)\n",
        "list_tokenized_train = tokenizer.texts_to_sequences(X)"
      ],
      "execution_count": 103,
      "outputs": []
    },
    {
      "cell_type": "code",
      "metadata": {
        "id": "0bfo61JlvSHB",
        "colab_type": "code",
        "colab": {}
      },
      "source": [
        "maxlen = 7\n",
        "X_train_padded = pad_sequences(list_tokenized_train, maxlen=maxlen)"
      ],
      "execution_count": 104,
      "outputs": []
    },
    {
      "cell_type": "code",
      "metadata": {
        "id": "hD7xJjOnvTf-",
        "colab_type": "code",
        "colab": {}
      },
      "source": [
        "X_train, X_test, y_train, y_test = train_test_split(X_train_padded, y, test_size=0.2, stratify=y)"
      ],
      "execution_count": 105,
      "outputs": []
    },
    {
      "cell_type": "code",
      "metadata": {
        "id": "xXqBTjT3vSQK",
        "colab_type": "code",
        "colab": {}
      },
      "source": [
        "early_stopping_cb = keras.callbacks.EarlyStopping(monitor='val_accuracy', patience=30, restore_best_weights=True, verbose=1)"
      ],
      "execution_count": 106,
      "outputs": []
    },
    {
      "cell_type": "code",
      "metadata": {
        "id": "8vUR1m7Ua0k0",
        "colab_type": "code",
        "colab": {
          "base_uri": "https://localhost:8080/",
          "height": 330
        },
        "outputId": "7fafef02-b5eb-432c-945f-9dedaa7c4d8a"
      },
      "source": [
        "embed_size = 128\n",
        "model = Sequential()\n",
        "model.add(Embedding(vocab_size, embed_size))\n",
        "model.add(Bidirectional(LSTM(64, return_sequences = True)))\n",
        "model.add(Bidirectional(LSTM(32, return_sequences = True)))\n",
        "model.add(GlobalMaxPool1D())\n",
        "model.add(Dense(1, activation=\"sigmoid\"))\n",
        "model.summary()"
      ],
      "execution_count": 113,
      "outputs": [
        {
          "output_type": "stream",
          "text": [
            "Model: \"sequential_38\"\n",
            "_________________________________________________________________\n",
            "Layer (type)                 Output Shape              Param #   \n",
            "=================================================================\n",
            "embedding_36 (Embedding)     (None, None, 128)         1920000   \n",
            "_________________________________________________________________\n",
            "bidirectional_31 (Bidirectio (None, None, 128)         98816     \n",
            "_________________________________________________________________\n",
            "bidirectional_32 (Bidirectio (None, None, 64)          41216     \n",
            "_________________________________________________________________\n",
            "global_max_pooling1d_13 (Glo (None, 64)                0         \n",
            "_________________________________________________________________\n",
            "dense_25 (Dense)             (None, 1)                 65        \n",
            "=================================================================\n",
            "Total params: 2,060,097\n",
            "Trainable params: 2,060,097\n",
            "Non-trainable params: 0\n",
            "_________________________________________________________________\n"
          ],
          "name": "stdout"
        }
      ]
    },
    {
      "cell_type": "code",
      "metadata": {
        "id": "TUH7BBHNGkfR",
        "colab_type": "code",
        "colab": {
          "base_uri": "https://localhost:8080/",
          "height": 350
        },
        "outputId": "821c9e55-67ca-4b4b-b638-5ee80f790f4b"
      },
      "source": [
        "model.compile(loss='binary_crossentropy', optimizer='adam', metrics=[tf.keras.metrics.AUC(name='auc'), 'accuracy'])\n",
        "\n",
        "batch_size = 10000\n",
        "epochs = 7\n",
        "model.fit(X_train, y_train, batch_size=batch_size, epochs=epochs, validation_split=0.1, callbacks=[early_stopping_cb])"
      ],
      "execution_count": 114,
      "outputs": [
        {
          "output_type": "stream",
          "text": [
            "/usr/local/lib/python3.6/dist-packages/tensorflow/python/framework/indexed_slices.py:434: UserWarning: Converting sparse IndexedSlices to a dense Tensor of unknown shape. This may consume a large amount of memory.\n",
            "  \"Converting sparse IndexedSlices to a dense Tensor of unknown shape. \"\n"
          ],
          "name": "stderr"
        },
        {
          "output_type": "stream",
          "text": [
            "Train on 2595764 samples, validate on 288419 samples\n",
            "Epoch 1/7\n",
            "2595764/2595764 [==============================] - 29s 11us/step - loss: 0.3121 - auc: 0.8672 - accuracy: 0.8635 - val_loss: 0.2275 - val_auc: 0.9397 - val_accuracy: 0.9102\n",
            "Epoch 2/7\n",
            "2595764/2595764 [==============================] - 27s 10us/step - loss: 0.2211 - auc: 0.9494 - accuracy: 0.9134 - val_loss: 0.2175 - val_auc: 0.9549 - val_accuracy: 0.9146\n",
            "Epoch 3/7\n",
            "2595764/2595764 [==============================] - 27s 10us/step - loss: 0.2112 - auc: 0.9580 - accuracy: 0.9179 - val_loss: 0.2130 - val_auc: 0.9602 - val_accuracy: 0.9169\n",
            "Epoch 4/7\n",
            "2595764/2595764 [==============================] - 27s 10us/step - loss: 0.2044 - auc: 0.9619 - accuracy: 0.9211 - val_loss: 0.2105 - val_auc: 0.9632 - val_accuracy: 0.9186\n",
            "Epoch 5/7\n",
            "2595764/2595764 [==============================] - 27s 10us/step - loss: 0.1984 - auc: 0.9643 - accuracy: 0.9240 - val_loss: 0.2069 - val_auc: 0.9652 - val_accuracy: 0.9200\n",
            "Epoch 6/7\n",
            "2595764/2595764 [==============================] - 27s 10us/step - loss: 0.1931 - auc: 0.9661 - accuracy: 0.9266 - val_loss: 0.2062 - val_auc: 0.9668 - val_accuracy: 0.9206\n",
            "Epoch 7/7\n",
            "2595764/2595764 [==============================] - 27s 10us/step - loss: 0.1882 - auc: 0.9674 - accuracy: 0.9287 - val_loss: 0.2053 - val_auc: 0.9680 - val_accuracy: 0.9212\n"
          ],
          "name": "stdout"
        },
        {
          "output_type": "execute_result",
          "data": {
            "text/plain": [
              "<keras.callbacks.callbacks.History at 0x7fa363bee240>"
            ]
          },
          "metadata": {
            "tags": []
          },
          "execution_count": 114
        }
      ]
    },
    {
      "cell_type": "code",
      "metadata": {
        "id": "RJxaB4wra2LT",
        "colab_type": "code",
        "colab": {
          "base_uri": "https://localhost:8080/",
          "height": 69
        },
        "outputId": "54a71683-5b3d-478d-d4eb-85e61c1d8371"
      },
      "source": [
        "pred = tokenizer.texts_to_sequences([\"olsun demek x zor artık\"])\n",
        "print(pred)\n",
        "maxlen = 7\n",
        "padded_pred = pad_sequences(pred, maxlen=maxlen)\n",
        "print(padded_pred)\n",
        "model.predict(padded_pred)\n",
        "\n",
        "#!!!!!#gerçekleri tarih yazar tarihi x galatasaray\n",
        "\n",
        "#twitterda insanlar ne kadar x çok -de-da hatası yapıyor\n",
        "\n",
        "#önemliler\n",
        "#gömleğin önünü x iliklersen iyi olur\n",
        "#yediğin de içtiğin x senin olsun bize gördüklerini anlat\n",
        "#kimselere x bakmadım senden daha güzel\n",
        "\n",
        "#olsun demek x zor artık\n",
        "#sen x başını alıp gitme ne olur\n",
        "\n",
        "#böyle koşullar x çalışmak çok sıkıcı 99\n",
        "#senin gibi insanlar x çok çalışkan oluyor 0.05\n",
        "###sen x geldiğinde gidelim\n",
        "###sen de geldiğin x gidelim\n",
        "###deden x gelsin \n",
        "###bu tişörtü x giymezsin abi ya\n",
        "###elin x kini bırak\n",
        "###sen x değilsin\n",
        "#elin x kaldı\n",
        "#elini x ayağını x çek\n",
        "#dedendeki demiri x delsin\n",
        "#böyle bir durum x sen olsan ne yapardın\n",
        "#böyle bir durum x olsa haklı değilsin\n",
        "#elin x ayağın da çok hareket ediyor\n",
        "#ne x olsa işi alamadı\n",
        "#YYY aklım da karışık zihnim x karışık\n",
        "#kalbim ondan yana x olsa işi alamadı\n",
        "#kalbim x acıyor 3Y\n",
        "#bana klavye x lazım\n",
        "#kendim x yapamadım\n",
        "\n",
        "#olsa\n",
        "#yabancı ülke de olsa yaşayamam\n",
        "#küçük ülke de olsa çok güçlü\n",
        "#küçük bir ülke de yaşamak istiyorum\n",
        "#DENE##H  bu ülke x zengin bir ülke \n",
        "\n",
        "#ekler\n",
        "#Bu yaz İstanbul' x yağmur yağdı\n",
        "#Bu yaz İstanbul'a x yağmur yağdı\n",
        "\n",
        "#ahmet x kalacağım\n",
        "#ahmet x gelecek\n",
        "\n",
        "#bu yaz bizimkiler x tatile gelecek\n",
        "#bu yaz bizimkiler x tatil yapacağım\n",
        "\n",
        "#20 sınıf x olsa yetmez\n",
        "\n",
        "#bu yaz köye x yağmur yağdı\n",
        "#bu yaz köy x yağmur yağdı\n",
        "\n",
        "############annem dolap x yemek var dedi\n",
        "############annem dolap x var dedi\n",
        "\n",
        "#Siz x mi okul müdürüydünüz\n",
        "\n",
        "#H##bu bir yarışma x olsa çirkefleşme\n",
        "\n",
        "#HATALIDEDATAKINTISI\n",
        "#H##bu durumlar x sakıncalı\n",
        "#H##bu deneme x doğru buldun\n",
        "#bu yaz köye x yağmur yağdı // yanlışını yaz\n",
        "#seninle gelsem x gitsem de olmaz  bulamadı\n",
        "#afrika x amerika x kötü durumda \n",
        "#sendeki şişe X bira mı var"
      ],
      "execution_count": 138,
      "outputs": [
        {
          "output_type": "stream",
          "text": [
            "[[208, 99, 1, 275, 92]]\n",
            "[[  0   0 208  99   1 275  92]]\n"
          ],
          "name": "stdout"
        },
        {
          "output_type": "execute_result",
          "data": {
            "text/plain": [
              "array([[0.04085088]], dtype=float32)"
            ]
          },
          "metadata": {
            "tags": []
          },
          "execution_count": 138
        }
      ]
    },
    {
      "cell_type": "code",
      "metadata": {
        "id": "IncPG00Sa3vp",
        "colab_type": "code",
        "colab": {
          "base_uri": "https://localhost:8080/",
          "height": 243
        },
        "outputId": "6647ba60-7bca-4547-8532-52a9086f813a"
      },
      "source": [
        "from sklearn.metrics import confusion_matrix, accuracy_score, classification_report, roc_auc_score\n",
        "\n",
        "y_pred = model.predict_classes(X_test)\n",
        "\n",
        "accuracy = accuracy_score(y_test, y_pred)\n",
        "print(\"Accuracy on Test Data: %.2f%%\" % (accuracy * 100.0))\n",
        "\n",
        "print(confusion_matrix(y_test, y_pred ))\n",
        "print(classification_report(y_test, y_pred, digits=4))\n",
        "print(roc_auc_score(y_test, y_pred))"
      ],
      "execution_count": 115,
      "outputs": [
        {
          "output_type": "stream",
          "text": [
            "Accuracy on Test Data: 92.13%\n",
            "[[336706  20522]\n",
            " [ 36227 327591]]\n",
            "              precision    recall  f1-score   support\n",
            "\n",
            "           0     0.9029    0.9426    0.9223    357228\n",
            "           1     0.9410    0.9004    0.9203    363818\n",
            "\n",
            "    accuracy                         0.9213    721046\n",
            "   macro avg     0.9220    0.9215    0.9213    721046\n",
            "weighted avg     0.9221    0.9213    0.9213    721046\n",
            "\n",
            "0.9214887915247114\n"
          ],
          "name": "stdout"
        }
      ]
    },
    {
      "cell_type": "code",
      "metadata": {
        "id": "R4jBMS0jQYr2",
        "colab_type": "code",
        "colab": {
          "base_uri": "https://localhost:8080/",
          "height": 34
        },
        "outputId": "5a03a507-b3c2-42e0-99ab-722e8c6f05ba"
      },
      "source": [
        "model.save(\"Model_deda.h5\")\n",
        "print(\"Saved model to disk\")"
      ],
      "execution_count": 116,
      "outputs": [
        {
          "output_type": "stream",
          "text": [
            "Saved model to disk\n"
          ],
          "name": "stdout"
        }
      ]
    },
    {
      "cell_type": "code",
      "metadata": {
        "id": "FYNx3-zOc8JH",
        "colab_type": "code",
        "colab": {}
      },
      "source": [
        "model.load_weights(\"/content/Model_deda.h5\")"
      ],
      "execution_count": 119,
      "outputs": []
    },
    {
      "cell_type": "code",
      "metadata": {
        "id": "TIwStpHWdQR2",
        "colab_type": "code",
        "colab": {}
      },
      "source": [
        "with open('tokenizer_deda.pickle', 'wb') as handle:\n",
        "    pickle.dump(tokenizer, handle, protocol=pickle.HIGHEST_PROTOCOL)"
      ],
      "execution_count": 141,
      "outputs": []
    },
    {
      "cell_type": "code",
      "metadata": {
        "id": "aYHdWgF_jCzj",
        "colab_type": "code",
        "colab": {}
      },
      "source": [
        ""
      ],
      "execution_count": null,
      "outputs": []
    }
  ]
}