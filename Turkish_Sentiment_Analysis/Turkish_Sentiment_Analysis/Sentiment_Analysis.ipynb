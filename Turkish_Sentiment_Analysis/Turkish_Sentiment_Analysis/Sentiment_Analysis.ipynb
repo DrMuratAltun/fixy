{
 "cells": [
  {
   "cell_type": "markdown",
   "metadata": {},
   "source": [
    "**Türkçe için sentiment(duygu) analiz kodu**"
   ]
  },
  {
   "cell_type": "code",
   "execution_count": 1,
   "metadata": {
    "colab": {
     "base_uri": "https://localhost:8080/",
     "height": 122
    },
    "colab_type": "code",
    "id": "GEVOskqGy7cM",
    "outputId": "c92c0c18-b584-499e-df50-0dccc03a9f17"
   },
   "outputs": [
    {
     "name": "stdout",
     "output_type": "stream",
     "text": [
      "Go to this URL in a browser: https://accounts.google.com/o/oauth2/auth?client_id=947318989803-6bn6qk8qdgf4n4g3pfee6491hc0brc4i.apps.googleusercontent.com&redirect_uri=urn%3aietf%3awg%3aoauth%3a2.0%3aoob&response_type=code&scope=email%20https%3a%2f%2fwww.googleapis.com%2fauth%2fdocs.test%20https%3a%2f%2fwww.googleapis.com%2fauth%2fdrive%20https%3a%2f%2fwww.googleapis.com%2fauth%2fdrive.photos.readonly%20https%3a%2f%2fwww.googleapis.com%2fauth%2fpeopleapi.readonly\n",
      "\n",
      "Enter your authorization code:\n",
      "··········\n",
      "Mounted at /content/drive\n"
     ]
    }
   ],
   "source": [
    "from google.colab import drive\n",
    "drive.mount('/content/drive')"
   ]
  },
  {
   "cell_type": "code",
   "execution_count": 0,
   "metadata": {
    "colab": {},
    "colab_type": "code",
    "id": "lfTos2DaxVIU"
   },
   "outputs": [],
   "source": [
    "import os\n",
    "os.chdir('./drive/My Drive/')"
   ]
  },
  {
   "cell_type": "code",
   "execution_count": 0,
   "metadata": {
    "colab": {},
    "colab_type": "code",
    "id": "iSaZJ1Pe7azb"
   },
   "outputs": [],
   "source": [
    "# veriyi pandas ile okuyoruz\n",
    "data = pd.read_csv(\"sentiment_data.csv\")"
   ]
  },
  {
   "cell_type": "code",
   "execution_count": 5,
   "metadata": {
    "colab": {
     "base_uri": "https://localhost:8080/",
     "height": 204
    },
    "colab_type": "code",
    "id": "p4xUrYhYxGoO",
    "outputId": "a56eaca1-f8b0-43b4-dd81-8697054d40c1"
   },
   "outputs": [
    {
     "data": {
      "text/html": [
       "<div>\n",
       "<style scoped>\n",
       "    .dataframe tbody tr th:only-of-type {\n",
       "        vertical-align: middle;\n",
       "    }\n",
       "\n",
       "    .dataframe tbody tr th {\n",
       "        vertical-align: top;\n",
       "    }\n",
       "\n",
       "    .dataframe thead th {\n",
       "        text-align: right;\n",
       "    }\n",
       "</style>\n",
       "<table border=\"1\" class=\"dataframe\">\n",
       "  <thead>\n",
       "    <tr style=\"text-align: right;\">\n",
       "      <th></th>\n",
       "      <th>Rating</th>\n",
       "      <th>Review</th>\n",
       "    </tr>\n",
       "  </thead>\n",
       "  <tbody>\n",
       "    <tr>\n",
       "      <th>0</th>\n",
       "      <td>1</td>\n",
       "      <td>3 yıldır tık demedi. :)</td>\n",
       "    </tr>\n",
       "    <tr>\n",
       "      <th>1</th>\n",
       "      <td>1</td>\n",
       "      <td>3 yıldır kullanıyorum müthiş</td>\n",
       "    </tr>\n",
       "    <tr>\n",
       "      <th>2</th>\n",
       "      <td>1</td>\n",
       "      <td>Ürün bugün elime geçti çok fazla inceleme fırs...</td>\n",
       "    </tr>\n",
       "    <tr>\n",
       "      <th>3</th>\n",
       "      <td>1</td>\n",
       "      <td>Almaya karar verdim. Hemencecik geldi. Keyifle...</td>\n",
       "    </tr>\n",
       "    <tr>\n",
       "      <th>4</th>\n",
       "      <td>1</td>\n",
       "      <td>Günlük kullanımınızı çok çok iyi karsılıyor kı...</td>\n",
       "    </tr>\n",
       "  </tbody>\n",
       "</table>\n",
       "</div>"
      ],
      "text/plain": [
       "   Rating                                             Review\n",
       "0       1                            3 yıldır tık demedi. :)\n",
       "1       1                      3 yıldır kullanıyorum müthiş \n",
       "2       1  Ürün bugün elime geçti çok fazla inceleme fırs...\n",
       "3       1  Almaya karar verdim. Hemencecik geldi. Keyifle...\n",
       "4       1  Günlük kullanımınızı çok çok iyi karsılıyor kı..."
      ]
     },
     "execution_count": 5,
     "metadata": {
      "tags": []
     },
     "output_type": "execute_result"
    }
   ],
   "source": [
    "df = data.copy()\n",
    "df.head()"
   ]
  },
  {
   "cell_type": "code",
   "execution_count": 35,
   "metadata": {
    "colab": {
     "base_uri": "https://localhost:8080/",
     "height": 34
    },
    "colab_type": "code",
    "id": "f9iTQ-8sEVQa",
    "outputId": "a231fe9e-e42e-459d-a6bd-ef6f1c0ec6f2"
   },
   "outputs": [
    {
     "data": {
      "text/plain": [
       "[1, 0]"
      ]
     },
     "execution_count": 35,
     "metadata": {
      "tags": []
     },
     "output_type": "execute_result"
    }
   ],
   "source": [
    "#0->negatif veri etiketi\n",
    "#1->pozitif veri etiketi\n",
    "df['Rating'].unique().tolist()"
   ]
  },
  {
   "cell_type": "code",
   "execution_count": 6,
   "metadata": {
    "colab": {
     "base_uri": "https://localhost:8080/",
     "height": 80
    },
    "colab_type": "code",
    "id": "HDqyJrEGxGoS",
    "outputId": "ed4cec08-cbc2-454d-f079-72bdc2803703"
   },
   "outputs": [
    {
     "name": "stderr",
     "output_type": "stream",
     "text": [
      "Using TensorFlow backend.\n"
     ]
    },
    {
     "data": {
      "text/html": [
       "<p style=\"color: red;\">\n",
       "The default version of TensorFlow in Colab will soon switch to TensorFlow 2.x.<br>\n",
       "We recommend you <a href=\"https://www.tensorflow.org/guide/migrate\" target=\"_blank\">upgrade</a> now \n",
       "or ensure your notebook will continue to use TensorFlow 1.x via the <code>%tensorflow_version 1.x</code> magic:\n",
       "<a href=\"https://colab.research.google.com/notebooks/tensorflow_version.ipynb\" target=\"_blank\">more info</a>.</p>\n"
      ],
      "text/plain": [
       "<IPython.core.display.HTML object>"
      ]
     },
     "metadata": {
      "tags": []
     },
     "output_type": "display_data"
    }
   ],
   "source": [
    "#model için gerekli kütüphaneleri import ediyoruz\n",
    "import numpy as np\n",
    "import pandas as pd\n",
    "from keras.preprocessing import sequence\n",
    "from keras.models import Sequential\n",
    "from keras.layers import Dense, Embedding, LSTM,  Dropout\n",
    "from tensorflow.python.keras.preprocessing.text import Tokenizer\n",
    "from tensorflow.python.keras.preprocessing.sequence import pad_sequences"
   ]
  },
  {
   "cell_type": "code",
   "execution_count": 0,
   "metadata": {
    "colab": {},
    "colab_type": "code",
    "id": "cg2z2r-QxGoc"
   },
   "outputs": [],
   "source": [
    "# bütün verileri ve etiketleri listeye çeviriyoruz\n",
    "target = df['Rating'].values.tolist()#negatif=0, pozitif=1\n",
    "data = df['Review'].values.tolist()#text verisi"
   ]
  },
  {
   "cell_type": "code",
   "execution_count": 0,
   "metadata": {
    "colab": {},
    "colab_type": "code",
    "id": "uNHzPWddxGoh"
   },
   "outputs": [],
   "source": [
    "#veriyi test ve train verisi olarak ayırıyoruz\n",
    "seperation = int(len(data) * 0.80)\n",
    "x_train, x_test = data[:seperation], data[seperation:]\n",
    "y_train, y_test = target[:seperation], target[seperation:]"
   ]
  },
  {
   "cell_type": "code",
   "execution_count": 9,
   "metadata": {
    "colab": {
     "base_uri": "https://localhost:8080/",
     "height": 34
    },
    "colab_type": "code",
    "id": "V0EkOnfgxGop",
    "outputId": "6854d17b-ca67-4460-ff18-a497763d3b37"
   },
   "outputs": [
    {
     "data": {
      "text/plain": [
       "(243497, 2)"
      ]
     },
     "execution_count": 9,
     "metadata": {
      "tags": []
     },
     "output_type": "execute_result"
    }
   ],
   "source": [
    "#veri satır ve sütun sayısı\n",
    "df.shape"
   ]
  },
  {
   "cell_type": "code",
   "execution_count": 0,
   "metadata": {
    "colab": {},
    "colab_type": "code",
    "id": "cUCLgvV4xGou"
   },
   "outputs": [],
   "source": [
    "# Verisetimizde en sık geçen 10000 kelimeyi alıyoruz\n",
    "num_words = 10000\n",
    "\n",
    "# Keras ile tokenizer tanımlıyoruz\n",
    "tokenizer = Tokenizer(num_words=num_words)"
   ]
  },
  {
   "cell_type": "code",
   "execution_count": 0,
   "metadata": {
    "colab": {},
    "colab_type": "code",
    "id": "KdmlloaixGoy"
   },
   "outputs": [],
   "source": [
    "# Veriyi tokenlara ayırıyoruz\n",
    "tokenizer.fit_on_texts(data)"
   ]
  },
  {
   "cell_type": "code",
   "execution_count": 0,
   "metadata": {
    "colab": {},
    "colab_type": "code",
    "id": "aG4phX_2xGo3"
   },
   "outputs": [],
   "source": [
    "# Tokenizerı kaydediyoruz\n",
    "import pickle\n",
    "\n",
    "with open('turkish_tokenizer_hack.pickle', 'wb') as handle:\n",
    "    pickle.dump(tokenizer, handle, protocol=pickle.HIGHEST_PROTOCOL)"
   ]
  },
  {
   "cell_type": "code",
   "execution_count": 0,
   "metadata": {
    "colab": {},
    "colab_type": "code",
    "id": "9Kuky--VxGo8"
   },
   "outputs": [],
   "source": [
    "# Tokenizerı yüklüyoruz\n",
    "with open('turkish_tokenizer_hack.pickle', 'rb') as handle:\n",
    "    turkish_tokenizer = pickle.load(handle)"
   ]
  },
  {
   "cell_type": "code",
   "execution_count": 0,
   "metadata": {
    "colab": {},
    "colab_type": "code",
    "id": "k-upV4lOxGpC"
   },
   "outputs": [],
   "source": [
    "# Train verisi olarak ayırdığımız veriyi tokenizer ile tokenize ediyoruz\n",
    "x_train_tokens = turkish_tokenizer.texts_to_sequences(x_train)"
   ]
  },
  {
   "cell_type": "code",
   "execution_count": 15,
   "metadata": {
    "colab": {
     "base_uri": "https://localhost:8080/",
     "height": 34
    },
    "colab_type": "code",
    "id": "dkN9jbQFxGpG",
    "outputId": "1fdfc725-1d78-4ceb-8243-c27cf26be01a"
   },
   "outputs": [
    {
     "data": {
      "text/plain": [
       "'Bu fiyata bu kalite kaçırmayın derim '"
      ]
     },
     "execution_count": 15,
     "metadata": {
      "tags": []
     },
     "output_type": "execute_result"
    }
   ],
   "source": [
    "x_train[100]"
   ]
  },
  {
   "cell_type": "code",
   "execution_count": 16,
   "metadata": {
    "colab": {
     "base_uri": "https://localhost:8080/",
     "height": 34
    },
    "colab_type": "code",
    "id": "-sGvRebixGpK",
    "outputId": "e6464e6e-af17-448a-f223-93a56ef34c64"
   },
   "outputs": [
    {
     "data": {
      "text/plain": [
       "[5, 39, 5, 131, 323, 143]"
      ]
     },
     "execution_count": 16,
     "metadata": {
      "tags": []
     },
     "output_type": "execute_result"
    }
   ],
   "source": [
    "\n",
    "x_train_tokens[100]"
   ]
  },
  {
   "cell_type": "code",
   "execution_count": 0,
   "metadata": {
    "colab": {},
    "colab_type": "code",
    "id": "LQU6PZoZxGpR"
   },
   "outputs": [],
   "source": [
    "# Test verisi olarak ayırdığımız veriyi tokenizer ile tokenize ediyoruz\n",
    "\n",
    "x_test_tokens = turkish_tokenizer.texts_to_sequences(x_test)\n"
   ]
  },
  {
   "cell_type": "code",
   "execution_count": 18,
   "metadata": {
    "colab": {
     "base_uri": "https://localhost:8080/",
     "height": 34
    },
    "colab_type": "code",
    "id": "YK269NvCxGpV",
    "outputId": "3749ab98-3b0c-4180-8329-786f568ac8b9"
   },
   "outputs": [
    {
     "data": {
      "text/plain": [
       "(243497,)"
      ]
     },
     "execution_count": 18,
     "metadata": {
      "tags": []
     },
     "output_type": "execute_result"
    }
   ],
   "source": [
    "\n",
    "#Text verileri için padding yapıyoruz\n",
    "#RNN ağlarını kullanırken önceden belirdiğimiz sabit bir size olur. Tüm input textlerinin sizelarını bu sabit size için padding yaparak 0 lar\n",
    "#ile doldururuz.\n",
    "\n",
    "\n",
    "\n",
    "num_tokens = [len(tokens) for tokens in x_train_tokens + x_test_tokens]\n",
    "num_tokens = np.array(num_tokens)\n",
    "num_tokens.shape"
   ]
  },
  {
   "cell_type": "code",
   "execution_count": 22,
   "metadata": {
    "colab": {
     "base_uri": "https://localhost:8080/",
     "height": 34
    },
    "colab_type": "code",
    "id": "lhvkkVg3xGpl",
    "outputId": "d9c0d46f-6f41-417b-b22f-cabffced7259"
   },
   "outputs": [
    {
     "data": {
      "text/plain": [
       "59"
      ]
     },
     "execution_count": 22,
     "metadata": {
      "tags": []
     },
     "output_type": "execute_result"
    }
   ],
   "source": [
    "# Bütün text verileri içinde maximum token sayısına sahip olanı buluyoruz\n",
    "max_tokens = np.mean(num_tokens) + 2*np.std(num_tokens) \n",
    "max_tokens = int(max_tokens)\n",
    "max_tokens"
   ]
  },
  {
   "cell_type": "code",
   "execution_count": 0,
   "metadata": {
    "colab": {},
    "colab_type": "code",
    "id": "8YOBiiaCxGpt"
   },
   "outputs": [],
   "source": [
    "# Bütün verilere padding yapıyoruz ve bütün veriler aynı boyutta oluyor\n",
    "x_train_pad = pad_sequences(x_train_tokens, maxlen=max_tokens)\n",
    "x_test_pad = pad_sequences(x_test_tokens, maxlen=max_tokens)"
   ]
  },
  {
   "cell_type": "code",
   "execution_count": 25,
   "metadata": {
    "colab": {
     "base_uri": "https://localhost:8080/",
     "height": 51
    },
    "colab_type": "code",
    "id": "EkE1r39MxGpw",
    "outputId": "5f148617-0833-4845-9fb1-425a2b500995"
   },
   "outputs": [
    {
     "name": "stdout",
     "output_type": "stream",
     "text": [
      "(194797, 59)\n",
      "(48700, 59)\n"
     ]
    }
   ],
   "source": [
    "# size\n",
    "print(x_train_pad.shape)\n",
    "print(x_test_pad.shape)"
   ]
  },
  {
   "cell_type": "code",
   "execution_count": 28,
   "metadata": {
    "colab": {
     "base_uri": "https://localhost:8080/",
     "height": 51
    },
    "colab_type": "code",
    "id": "gxKLFB9LxGp8",
    "outputId": "8a8eb7cb-0538-47d9-e61d-3da0b37e83d2"
   },
   "outputs": [
    {
     "name": "stdout",
     "output_type": "stream",
     "text": [
      "WARNING:tensorflow:From /usr/local/lib/python3.6/dist-packages/keras/backend/tensorflow_backend.py:66: The name tf.get_default_graph is deprecated. Please use tf.compat.v1.get_default_graph instead.\n",
      "\n"
     ]
    }
   ],
   "source": [
    "model = Sequential() # Kullanacağımız Keras modelini tanımlıyoruz\n"
   ]
  },
  {
   "cell_type": "code",
   "execution_count": 0,
   "metadata": {
    "colab": {},
    "colab_type": "code",
    "id": "3nUBdP3ExGp_"
   },
   "outputs": [],
   "source": [
    "embedding_size = 50 # Her kelime için vektör boyutunu 50 olarak belirledik"
   ]
  },
  {
   "cell_type": "code",
   "execution_count": 30,
   "metadata": {
    "colab": {
     "base_uri": "https://localhost:8080/",
     "height": 85
    },
    "colab_type": "code",
    "id": "W1Zc5iucxGqD",
    "outputId": "ff288909-3244-4c84-ed05-7d0e9dbe3301"
   },
   "outputs": [
    {
     "name": "stdout",
     "output_type": "stream",
     "text": [
      "WARNING:tensorflow:From /usr/local/lib/python3.6/dist-packages/keras/backend/tensorflow_backend.py:541: The name tf.placeholder is deprecated. Please use tf.compat.v1.placeholder instead.\n",
      "\n",
      "WARNING:tensorflow:From /usr/local/lib/python3.6/dist-packages/keras/backend/tensorflow_backend.py:4432: The name tf.random_uniform is deprecated. Please use tf.random.uniform instead.\n",
      "\n"
     ]
    }
   ],
   "source": [
    "\n",
    "#Kerasta bir embedding layer oluşturuyoruz ve rastgele vektörler oluşturuyoruz\n",
    "\n",
    "\n",
    "# Modele embedding layer ekliyoruz\n",
    "# embedding matris size = num_words * embedding_size -> 10.000 * 50\n",
    "model.add(Embedding(input_dim=num_words,\n",
    "                    output_dim=embedding_size,\n",
    "                    input_length=max_tokens,\n",
    "                    name='embedding_layer'))"
   ]
  },
  {
   "cell_type": "code",
   "execution_count": 31,
   "metadata": {
    "colab": {
     "base_uri": "https://localhost:8080/",
     "height": 122
    },
    "colab_type": "code",
    "id": "iKGY7_X6xGqH",
    "outputId": "a3a9f10f-9590-4b9b-a4ce-d60215a81b8a"
   },
   "outputs": [
    {
     "name": "stdout",
     "output_type": "stream",
     "text": [
      "WARNING:tensorflow:From /usr/local/lib/python3.6/dist-packages/keras/backend/tensorflow_backend.py:148: The name tf.placeholder_with_default is deprecated. Please use tf.compat.v1.placeholder_with_default instead.\n",
      "\n",
      "WARNING:tensorflow:From /usr/local/lib/python3.6/dist-packages/keras/backend/tensorflow_backend.py:3733: calling dropout (from tensorflow.python.ops.nn_ops) with keep_prob is deprecated and will be removed in a future version.\n",
      "Instructions for updating:\n",
      "Please use `rate` instead of `keep_prob`. Rate should be set to `rate = 1 - keep_prob`.\n"
     ]
    }
   ],
   "source": [
    "# 3-katmanlı(layer) LSTM\n",
    "model.add(LSTM(units=16, return_sequences=True))\n",
    "model.add(Dropout(0.2))\n",
    "model.add(LSTM(units=8, return_sequences=True))\n",
    "model.add(Dropout(0.2))\n",
    "model.add(LSTM(units=4, return_sequences=False))\n",
    "model.add(Dropout(0.2))\n",
    "# Dense layer: Tek nörondan oluşuyor\n",
    "model.add(Dense(1, activation='sigmoid'))# Sigmoid aktivasyon fonksiyonu"
   ]
  },
  {
   "cell_type": "code",
   "execution_count": 32,
   "metadata": {
    "colab": {
     "base_uri": "https://localhost:8080/",
     "height": 88
    },
    "colab_type": "code",
    "id": "pEaDE7FXxGqL",
    "outputId": "eae2f5a5-bcc4-4257-adac-aac1858a7b36"
   },
   "outputs": [
    {
     "name": "stdout",
     "output_type": "stream",
     "text": [
      "WARNING:tensorflow:From /tensorflow-1.15.0/python3.6/tensorflow_core/python/ops/resource_variable_ops.py:1630: calling BaseResourceVariable.__init__ (from tensorflow.python.ops.resource_variable_ops) with constraint is deprecated and will be removed in a future version.\n",
      "Instructions for updating:\n",
      "If using Keras pass *_constraint arguments to layers.\n"
     ]
    }
   ],
   "source": [
    "# Adam optimizer\n",
    "from tensorflow.python.keras.optimizers import Adam\n",
    "optimizer = Adam(lr=1e-3)"
   ]
  },
  {
   "cell_type": "code",
   "execution_count": 33,
   "metadata": {
    "colab": {
     "base_uri": "https://localhost:8080/",
     "height": 136
    },
    "colab_type": "code",
    "id": "q_D4Ifh-xGqQ",
    "outputId": "05d8d16b-01a5-4b4c-a741-bd8bf848c3be"
   },
   "outputs": [
    {
     "name": "stdout",
     "output_type": "stream",
     "text": [
      "WARNING:tensorflow:From /usr/local/lib/python3.6/dist-packages/keras/optimizers.py:793: The name tf.train.Optimizer is deprecated. Please use tf.compat.v1.train.Optimizer instead.\n",
      "\n",
      "WARNING:tensorflow:From /usr/local/lib/python3.6/dist-packages/keras/backend/tensorflow_backend.py:3657: The name tf.log is deprecated. Please use tf.math.log instead.\n",
      "\n",
      "WARNING:tensorflow:From /tensorflow-1.15.0/python3.6/tensorflow_core/python/ops/nn_impl.py:183: where (from tensorflow.python.ops.array_ops) is deprecated and will be removed in a future version.\n",
      "Instructions for updating:\n",
      "Use tf.where in 2.0, which has the same broadcast rule as np.where\n"
     ]
    }
   ],
   "source": [
    "# Farklı optimizerları deniyoruz\n",
    "model.compile(loss='binary_crossentropy',\n",
    "optimizer='adam',\n",
    "metrics=['accuracy'])"
   ]
  },
  {
   "cell_type": "code",
   "execution_count": 34,
   "metadata": {
    "colab": {
     "base_uri": "https://localhost:8080/",
     "height": 425
    },
    "colab_type": "code",
    "id": "XQF-klTHxGqT",
    "outputId": "bcb8eea3-4d7c-4d4e-ff45-88b4ca8d2ab4"
   },
   "outputs": [
    {
     "name": "stdout",
     "output_type": "stream",
     "text": [
      "Model: \"sequential_1\"\n",
      "_________________________________________________________________\n",
      "Layer (type)                 Output Shape              Param #   \n",
      "=================================================================\n",
      "embedding_layer (Embedding)  (None, 59, 50)            500000    \n",
      "_________________________________________________________________\n",
      "lstm_1 (LSTM)                (None, 59, 16)            4288      \n",
      "_________________________________________________________________\n",
      "dropout_1 (Dropout)          (None, 59, 16)            0         \n",
      "_________________________________________________________________\n",
      "lstm_2 (LSTM)                (None, 59, 8)             800       \n",
      "_________________________________________________________________\n",
      "dropout_2 (Dropout)          (None, 59, 8)             0         \n",
      "_________________________________________________________________\n",
      "lstm_3 (LSTM)                (None, 4)                 208       \n",
      "_________________________________________________________________\n",
      "dropout_3 (Dropout)          (None, 4)                 0         \n",
      "_________________________________________________________________\n",
      "dense_1 (Dense)              (None, 1)                 5         \n",
      "=================================================================\n",
      "Total params: 505,301\n",
      "Trainable params: 505,301\n",
      "Non-trainable params: 0\n",
      "_________________________________________________________________\n"
     ]
    }
   ],
   "source": [
    "# modelin özeti\n",
    "model.summary()"
   ]
  },
  {
   "cell_type": "code",
   "execution_count": 36,
   "metadata": {
    "colab": {
     "base_uri": "https://localhost:8080/",
     "height": 666
    },
    "colab_type": "code",
    "id": "ufjvJHGFxGqY",
    "outputId": "eb2ca410-a1b7-4dce-c70a-d6429e17c0ef"
   },
   "outputs": [
    {
     "name": "stdout",
     "output_type": "stream",
     "text": [
      "WARNING:tensorflow:From /usr/local/lib/python3.6/dist-packages/keras/backend/tensorflow_backend.py:1033: The name tf.assign_add is deprecated. Please use tf.compat.v1.assign_add instead.\n",
      "\n",
      "WARNING:tensorflow:From /usr/local/lib/python3.6/dist-packages/keras/backend/tensorflow_backend.py:1020: The name tf.assign is deprecated. Please use tf.compat.v1.assign instead.\n",
      "\n",
      "WARNING:tensorflow:From /usr/local/lib/python3.6/dist-packages/keras/backend/tensorflow_backend.py:3005: The name tf.Session is deprecated. Please use tf.compat.v1.Session instead.\n",
      "\n",
      "Epoch 1/10\n",
      "WARNING:tensorflow:From /usr/local/lib/python3.6/dist-packages/keras/backend/tensorflow_backend.py:190: The name tf.get_default_session is deprecated. Please use tf.compat.v1.get_default_session instead.\n",
      "\n",
      "WARNING:tensorflow:From /usr/local/lib/python3.6/dist-packages/keras/backend/tensorflow_backend.py:197: The name tf.ConfigProto is deprecated. Please use tf.compat.v1.ConfigProto instead.\n",
      "\n",
      "WARNING:tensorflow:From /usr/local/lib/python3.6/dist-packages/keras/backend/tensorflow_backend.py:207: The name tf.global_variables is deprecated. Please use tf.compat.v1.global_variables instead.\n",
      "\n",
      "WARNING:tensorflow:From /usr/local/lib/python3.6/dist-packages/keras/backend/tensorflow_backend.py:216: The name tf.is_variable_initialized is deprecated. Please use tf.compat.v1.is_variable_initialized instead.\n",
      "\n",
      "WARNING:tensorflow:From /usr/local/lib/python3.6/dist-packages/keras/backend/tensorflow_backend.py:223: The name tf.variables_initializer is deprecated. Please use tf.compat.v1.variables_initializer instead.\n",
      "\n",
      "194797/194797 [==============================] - 266s 1ms/step - loss: 0.2672 - acc: 0.9424\n",
      "Epoch 2/10\n",
      "194797/194797 [==============================] - 246s 1ms/step - loss: 0.1681 - acc: 0.9515\n",
      "Epoch 3/10\n",
      "194797/194797 [==============================] - 242s 1ms/step - loss: 0.1022 - acc: 0.9683\n",
      "Epoch 4/10\n",
      "194797/194797 [==============================] - 247s 1ms/step - loss: 0.0803 - acc: 0.9760\n",
      "Epoch 5/10\n",
      "194797/194797 [==============================] - 257s 1ms/step - loss: 0.0647 - acc: 0.9812\n",
      "Epoch 6/10\n",
      "194797/194797 [==============================] - 249s 1ms/step - loss: 0.0524 - acc: 0.9849\n",
      "Epoch 7/10\n",
      "194797/194797 [==============================] - 251s 1ms/step - loss: 0.0444 - acc: 0.9877\n",
      "Epoch 8/10\n",
      "194797/194797 [==============================] - 260s 1ms/step - loss: 0.0371 - acc: 0.9901\n",
      "Epoch 9/10\n",
      "194797/194797 [==============================] - 249s 1ms/step - loss: 0.0333 - acc: 0.9917\n",
      "Epoch 10/10\n",
      "194797/194797 [==============================] - 249s 1ms/step - loss: 0.0288 - acc: 0.9932\n"
     ]
    },
    {
     "data": {
      "text/plain": [
       "<keras.callbacks.History at 0x7f18ed616048>"
      ]
     },
     "execution_count": 36,
     "metadata": {
      "tags": []
     },
     "output_type": "execute_result"
    }
   ],
   "source": [
    "# epoch -> veri ile kaç kere eğiteceğiz\n",
    "# batch_size -> feeding size-her epochta kaç veri ile besleyeceğiz\n",
    "model.fit(x_train_pad, y_train, epochs=10, batch_size=256)"
   ]
  },
  {
   "cell_type": "code",
   "execution_count": 37,
   "metadata": {
    "colab": {
     "base_uri": "https://localhost:8080/",
     "height": 51
    },
    "colab_type": "code",
    "id": "IiPqMvfOxGqb",
    "outputId": "c02c1f4e-266f-49e2-be83-af614d839d0d"
   },
   "outputs": [
    {
     "name": "stdout",
     "output_type": "stream",
     "text": [
      "48700/48700 [==============================] - 171s 4ms/step\n"
     ]
    },
    {
     "data": {
      "text/plain": [
       "[0.24414843802609973, 0.9457905544147844]"
      ]
     },
     "execution_count": 37,
     "metadata": {
      "tags": []
     },
     "output_type": "execute_result"
    }
   ],
   "source": [
    "# model sonuçları\n",
    "result = model.evaluate(x_test_pad, y_test)\n",
    "result"
   ]
  },
  {
   "cell_type": "code",
   "execution_count": 38,
   "metadata": {
    "colab": {
     "base_uri": "https://localhost:8080/",
     "height": 34
    },
    "colab_type": "code",
    "id": "ivvk3CGaxGqj",
    "outputId": "182eea25-69db-44f1-b032-94ee78b6594b"
   },
   "outputs": [
    {
     "data": {
      "text/plain": [
       "94.57905544147845"
      ]
     },
     "execution_count": 38,
     "metadata": {
      "tags": []
     },
     "output_type": "execute_result"
    }
   ],
   "source": [
    "# doğruluk oranı\n",
    "accuracy = (result[1]) * 100\n",
    "accuracy"
   ]
  },
  {
   "cell_type": "code",
   "execution_count": 0,
   "metadata": {
    "colab": {},
    "colab_type": "code",
    "id": "yHFwG3oYxGqp"
   },
   "outputs": [],
   "source": [
    "#test yorumları(inputlar)\n",
    "text1 = \"böyle bir şeyi kabul edemem\"\n",
    "text2 = \"tasarımı güzel ancak ürün açılmış tavsiye etmem\"\n",
    "text3 = \"bu işten çok sıkıldım artık\"\n",
    "text4 = \"kötü yorumlar gözümü korkutmuştu ancak hiçbir sorun yaşamadım teşekkürler\"\n",
    "text5 = \"yaptığın işleri hiç beğenmiyorum\"\n",
    "text6 = \"tam bir fiyat performans ürünü beğendim\"\n",
    "text7 = \"Bu ürünü beğenmedim\"\n",
    "texts = [text1, text2,text3,text4,text5,text6,text7]"
   ]
  },
  {
   "cell_type": "code",
   "execution_count": 0,
   "metadata": {
    "colab": {},
    "colab_type": "code",
    "id": "IRPAXDU4xGqt"
   },
   "outputs": [],
   "source": [
    "tokens = turkish_tokenizer.texts_to_sequences(texts)"
   ]
  },
  {
   "cell_type": "code",
   "execution_count": 41,
   "metadata": {
    "colab": {
     "base_uri": "https://localhost:8080/",
     "height": 136
    },
    "colab_type": "code",
    "id": "ZVyix5EVxGqx",
    "outputId": "f3fb3457-c2fa-4944-d012-12f476d6a020"
   },
   "outputs": [
    {
     "data": {
      "text/plain": [
       "[[104, 2, 1032, 2333, 1466, 5, 4, 5, 1779],\n",
       " [553, 61, 82, 27, 1, 458, 33, 3, 4, 9, 1031],\n",
       " [46, 1096, 6419, 20, 50],\n",
       " [177, 735, 7728, 82, 263, 105, 326, 16],\n",
       " [46, 5, 30, 177, 2, 1717, 1244, 19, 677, 83],\n",
       " [74, 2, 28, 111, 19],\n",
       " [7, 2, 4, 50]]"
      ]
     },
     "execution_count": 41,
     "metadata": {
      "tags": []
     },
     "output_type": "execute_result"
    }
   ],
   "source": [
    "tokens = turkish_tokenizer.texts_to_sequences(texts)\n",
    "tokens"
   ]
  },
  {
   "cell_type": "code",
   "execution_count": 0,
   "metadata": {
    "colab": {},
    "colab_type": "code",
    "id": "EOB3Ly_0xGq0"
   },
   "outputs": [],
   "source": [
    "#padding\n",
    "tokens_pad = pad_sequences(tokens, maxlen=max_tokens)"
   ]
  },
  {
   "cell_type": "code",
   "execution_count": 62,
   "metadata": {
    "colab": {
     "base_uri": "https://localhost:8080/",
     "height": 136
    },
    "colab_type": "code",
    "id": "TFPD-WYRXgzS",
    "outputId": "855dde0a-8d3d-4ef3-ed00-1e436fc53704"
   },
   "outputs": [
    {
     "data": {
      "text/plain": [
       "array([[0.00613517],\n",
       "       [0.08107951],\n",
       "       [0.00456542],\n",
       "       [0.9993015 ],\n",
       "       [0.0052653 ],\n",
       "       [0.99948347],\n",
       "       [0.96659845]], dtype=float32)"
      ]
     },
     "execution_count": 62,
     "metadata": {
      "tags": []
     },
     "output_type": "execute_result"
    }
   ],
   "source": [
    "#model bu yorumların hangi duyguya yakın olduğunu tahminliyor\n",
    "model.predict(tokens_pad)"
   ]
  },
  {
   "cell_type": "code",
   "execution_count": 61,
   "metadata": {
    "colab": {
     "base_uri": "https://localhost:8080/",
     "height": 136
    },
    "colab_type": "code",
    "id": "w5GG92fRxGq4",
    "outputId": "0030fea1-d2ee-4199-e3f0-1ed371405fe2"
   },
   "outputs": [
    {
     "name": "stdout",
     "output_type": "stream",
     "text": [
      "negative\n",
      "negative\n",
      "negative\n",
      "positive\n",
      "negative\n",
      "positive\n",
      "positive\n"
     ]
    }
   ],
   "source": [
    "\n",
    "for i in model.predict(tokens_pad):\n",
    "    if i < 0.5:\n",
    "        print(\"negatif\")#negatif yorum yapmış\n",
    "    else\n",
    "        print(\"pozitif\")#pozitif yorum yapmış\n"
   ]
  },
  {
   "cell_type": "code",
   "execution_count": 0,
   "metadata": {
    "colab": {},
    "colab_type": "code",
    "id": "8obDvY1yMfZf"
   },
   "outputs": [],
   "source": [
    "from keras.models import load_model\n",
    "\n",
    "model.save('hack_model.h5')  # modeli kaydediyoruz\n"
   ]
  }
 ],
 "metadata": {
  "accelerator": "GPU",
  "colab": {
   "collapsed_sections": [],
   "name": "Turkish_Sentiment_Analysis_LSTM.ipynb",
   "provenance": []
  },
  "kernelspec": {
   "display_name": "Python 3",
   "language": "python",
   "name": "python3"
  },
  "language_info": {
   "codemirror_mode": {
    "name": "ipython",
    "version": 3
   },
   "file_extension": ".py",
   "mimetype": "text/x-python",
   "name": "python",
   "nbconvert_exporter": "python",
   "pygments_lexer": "ipython3",
   "version": "3.6.8"
  }
 },
 "nbformat": 4,
 "nbformat_minor": 1
}
