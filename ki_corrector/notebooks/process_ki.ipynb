{
  "nbformat": 4,
  "nbformat_minor": 0,
  "metadata": {
    "colab": {
      "name": "process_ki.ipynb",
      "provenance": []
    },
    "kernelspec": {
      "name": "python3",
      "display_name": "Python 3"
    },
    "accelerator": "GPU"
  },
  "cells": [
    {
      "cell_type": "code",
      "metadata": {
        "id": "GVPzqZN_jozA",
        "colab_type": "code",
        "colab": {
          "base_uri": "https://localhost:8080/",
          "height": 34
        },
        "outputId": "55f138ce-0ac0-413f-bff0-8945b6fc91c4"
      },
      "source": [
        "from google.colab import drive\n",
        "drive.mount('/content/drive')"
      ],
      "execution_count": 29,
      "outputs": [
        {
          "output_type": "stream",
          "text": [
            "Drive already mounted at /content/drive; to attempt to forcibly remount, call drive.mount(\"/content/drive\", force_remount=True).\n"
          ],
          "name": "stdout"
        }
      ]
    },
    {
      "cell_type": "code",
      "metadata": {
        "id": "awhil2mQjwil",
        "colab_type": "code",
        "colab": {
          "base_uri": "https://localhost:8080/",
          "height": 799
        },
        "outputId": "422f091c-c682-4fc5-9672-5bcc9a0102ac"
      },
      "source": [
        "import pandas as pd\n",
        "df = pd.read_csv('/content/drive/My Drive/Fixy/ki_news_both.txt', sep= '\\t', error_bad_lines=False, engine='python', header=None)"
      ],
      "execution_count": 30,
      "outputs": [
        {
          "output_type": "stream",
          "text": [
            "Skipping line 30: '\t' expected after '\"'\n",
            "Skipping line 56: '\t' expected after '\"'\n",
            "Skipping line 87: '\t' expected after '\"'\n",
            "Skipping line 88: '\t' expected after '\"'\n",
            "Skipping line 92: '\t' expected after '\"'\n",
            "Skipping line 151: '\t' expected after '\"'\n",
            "Skipping line 201: '\t' expected after '\"'\n",
            "Skipping line 252: '\t' expected after '\"'\n",
            "Skipping line 261: '\t' expected after '\"'\n",
            "Skipping line 282: '\t' expected after '\"'\n",
            "Skipping line 295: '\t' expected after '\"'\n",
            "Skipping line 397: '\t' expected after '\"'\n",
            "Skipping line 400: '\t' expected after '\"'\n",
            "Skipping line 401: '\t' expected after '\"'\n",
            "Skipping line 402: '\t' expected after '\"'\n",
            "Skipping line 484: '\t' expected after '\"'\n",
            "Skipping line 507: '\t' expected after '\"'\n",
            "Skipping line 536: '\t' expected after '\"'\n",
            "Skipping line 583: '\t' expected after '\"'\n",
            "Skipping line 589: '\t' expected after '\"'\n",
            "Skipping line 595: '\t' expected after '\"'\n",
            "Skipping line 688: '\t' expected after '\"'\n",
            "Skipping line 820: '\t' expected after '\"'\n",
            "Skipping line 944: '\t' expected after '\"'\n",
            "Skipping line 1035: '\t' expected after '\"'\n",
            "Skipping line 1202: '\t' expected after '\"'\n",
            "Skipping line 1310: '\t' expected after '\"'\n",
            "Skipping line 1661: '\t' expected after '\"'\n",
            "Skipping line 1805: '\t' expected after '\"'\n",
            "Skipping line 1807: '\t' expected after '\"'\n",
            "Skipping line 1917: '\t' expected after '\"'\n",
            "Skipping line 1929: '\t' expected after '\"'\n",
            "Skipping line 2003: '\t' expected after '\"'\n",
            "Skipping line 2122: '\t' expected after '\"'\n",
            "Skipping line 2137: '\t' expected after '\"'\n",
            "Skipping line 2451: '\t' expected after '\"'\n",
            "Skipping line 2692: '\t' expected after '\"'\n",
            "Skipping line 2754: '\t' expected after '\"'\n",
            "Skipping line 2916: '\t' expected after '\"'\n",
            "Skipping line 2988: '\t' expected after '\"'\n",
            "Skipping line 3092: '\t' expected after '\"'\n",
            "Skipping line 3139: '\t' expected after '\"'\n",
            "Skipping line 3238: '\t' expected after '\"'\n",
            "Skipping line 3363: '\t' expected after '\"'\n",
            "Skipping line 3390: '\t' expected after '\"'\n"
          ],
          "name": "stderr"
        }
      ]
    },
    {
      "cell_type": "code",
      "metadata": {
        "id": "ODVlK3cSTH2e",
        "colab_type": "code",
        "colab": {}
      },
      "source": [
        "df[0] = df[2]\n",
        "del df[1]\n",
        "del df[2]"
      ],
      "execution_count": 31,
      "outputs": []
    },
    {
      "cell_type": "code",
      "metadata": {
        "id": "D3Mu6BnGVhuk",
        "colab_type": "code",
        "colab": {
          "base_uri": "https://localhost:8080/",
          "height": 206
        },
        "outputId": "c74f9770-e507-4621-b144-a021240ffe51"
      },
      "source": [
        "df.head()"
      ],
      "execution_count": 32,
      "outputs": [
        {
          "output_type": "execute_result",
          "data": {
            "text/html": [
              "<div>\n",
              "<style scoped>\n",
              "    .dataframe tbody tr th:only-of-type {\n",
              "        vertical-align: middle;\n",
              "    }\n",
              "\n",
              "    .dataframe tbody tr th {\n",
              "        vertical-align: top;\n",
              "    }\n",
              "\n",
              "    .dataframe thead th {\n",
              "        text-align: right;\n",
              "    }\n",
              "</style>\n",
              "<table border=\"1\" class=\"dataframe\">\n",
              "  <thead>\n",
              "    <tr style=\"text-align: right;\">\n",
              "      <th></th>\n",
              "      <th>0</th>\n",
              "    </tr>\n",
              "  </thead>\n",
              "  <tbody>\n",
              "    <tr>\n",
              "      <th>0</th>\n",
              "      <td>apartman inşaatında çalışan iki taşralı işçidir .</td>\n",
              "    </tr>\n",
              "    <tr>\n",
              "      <th>1</th>\n",
              "      <td>korkup kaçmayı düşünen iki kafadar , Nizam</td>\n",
              "    </tr>\n",
              "    <tr>\n",
              "      <th>2</th>\n",
              "      <td>başlar . İnşaatın karşısındaki bir apartmandan...</td>\n",
              "    </tr>\n",
              "    <tr>\n",
              "      <th>3</th>\n",
              "      <td>geceyarısı gidip gelenler konusundaki kuşkular...</td>\n",
              "    </tr>\n",
              "    <tr>\n",
              "      <th>4</th>\n",
              "      <td>azdır ne yazık ki ! Ömer Vargı</td>\n",
              "    </tr>\n",
              "  </tbody>\n",
              "</table>\n",
              "</div>"
            ],
            "text/plain": [
              "                                                   0\n",
              "0  apartman inşaatında çalışan iki taşralı işçidir .\n",
              "1         korkup kaçmayı düşünen iki kafadar , Nizam\n",
              "2  başlar . İnşaatın karşısındaki bir apartmandan...\n",
              "3  geceyarısı gidip gelenler konusundaki kuşkular...\n",
              "4                     azdır ne yazık ki ! Ömer Vargı"
            ]
          },
          "metadata": {
            "tags": []
          },
          "execution_count": 32
        }
      ]
    },
    {
      "cell_type": "code",
      "metadata": {
        "id": "0gNBLq4nj-vF",
        "colab_type": "code",
        "colab": {
          "base_uri": "https://localhost:8080/",
          "height": 52
        },
        "outputId": "eabea1f5-ff8c-40e8-af90-3957b2d7b70b"
      },
      "source": [
        "ki_both = df[df[0].str.contains(\"ki \")]\n",
        "ki_bitisik = ki_both[~ki_both[0].str.contains(\" ki \")]\n",
        "ki_ayrı = ki_both[ki_both[0].str.contains(\" ki \")]\n",
        "ki_bitisik.head()\n",
        "print(ki_bitisik.shape)\n",
        "print(ki_ayrı.shape)"
      ],
      "execution_count": 33,
      "outputs": [
        {
          "output_type": "stream",
          "text": [
            "(3104, 1)\n",
            "(249, 1)\n"
          ],
          "name": "stdout"
        }
      ]
    },
    {
      "cell_type": "code",
      "metadata": {
        "id": "JzWM_unml7K5",
        "colab_type": "code",
        "colab": {
          "base_uri": "https://localhost:8080/",
          "height": 225
        },
        "outputId": "720bcdd5-555d-4bbf-f7f7-a3dd327a0063"
      },
      "source": [
        "ki_bitisik[0]= ki_bitisik[0].str.replace(\"ki \", \" X \", case = False) \n",
        "ki_ayrı[0]= ki_ayrı[0].str.replace(\" ki \", \" X \", case = False) \n",
        "\n",
        "ki_bitisik = ki_bitisik[ki_bitisik[0].str.split().str.len().lt(10)]\n",
        "ki_ayrı = ki_ayrı[ki_ayrı[0].str.split().str.len().lt(10)]\n"
      ],
      "execution_count": 34,
      "outputs": [
        {
          "output_type": "stream",
          "text": [
            "/usr/local/lib/python3.6/dist-packages/ipykernel_launcher.py:1: SettingWithCopyWarning: \n",
            "A value is trying to be set on a copy of a slice from a DataFrame.\n",
            "Try using .loc[row_indexer,col_indexer] = value instead\n",
            "\n",
            "See the caveats in the documentation: https://pandas.pydata.org/pandas-docs/stable/user_guide/indexing.html#returning-a-view-versus-a-copy\n",
            "  \"\"\"Entry point for launching an IPython kernel.\n",
            "/usr/local/lib/python3.6/dist-packages/ipykernel_launcher.py:2: SettingWithCopyWarning: \n",
            "A value is trying to be set on a copy of a slice from a DataFrame.\n",
            "Try using .loc[row_indexer,col_indexer] = value instead\n",
            "\n",
            "See the caveats in the documentation: https://pandas.pydata.org/pandas-docs/stable/user_guide/indexing.html#returning-a-view-versus-a-copy\n",
            "  \n"
          ],
          "name": "stderr"
        }
      ]
    },
    {
      "cell_type": "code",
      "metadata": {
        "id": "X_XYDbDfnY3h",
        "colab_type": "code",
        "colab": {}
      },
      "source": [
        "ki_bitisik = ki_bitisik.sample(frac=1).reset_index(drop=True)\n",
        "ki_ayrı = ki_ayrı.sample(frac=1).reset_index(drop=True)"
      ],
      "execution_count": 35,
      "outputs": []
    },
    {
      "cell_type": "code",
      "metadata": {
        "id": "oGBJ1l6EmTrR",
        "colab_type": "code",
        "colab": {}
      },
      "source": [
        "ki_bitisik = ki_bitisik.sample(ki_ayrı.shape[0]).reset_index(drop=True)"
      ],
      "execution_count": 36,
      "outputs": []
    },
    {
      "cell_type": "code",
      "metadata": {
        "id": "fqpXVt5ToDVl",
        "colab_type": "code",
        "colab": {
          "base_uri": "https://localhost:8080/",
          "height": 52
        },
        "outputId": "18d82f9b-40ff-4df8-e358-bfd37eea8b44"
      },
      "source": [
        "print(ki_ayrı.shape)\n",
        "print(ki_bitisik.shape)"
      ],
      "execution_count": 37,
      "outputs": [
        {
          "output_type": "stream",
          "text": [
            "(245, 1)\n",
            "(245, 1)\n"
          ],
          "name": "stdout"
        }
      ]
    },
    {
      "cell_type": "code",
      "metadata": {
        "id": "LqD_G73NfOQf",
        "colab_type": "code",
        "colab": {}
      },
      "source": [
        "data_bitisik = ki_bitisik\n",
        "data_ayrı = ki_ayrı"
      ],
      "execution_count": 38,
      "outputs": []
    },
    {
      "cell_type": "code",
      "metadata": {
        "id": "99UeZkwjuZ7Q",
        "colab_type": "code",
        "colab": {}
      },
      "source": [
        "data_bitisik['y'] = 1\n",
        "data_ayrı['y'] = 0"
      ],
      "execution_count": 39,
      "outputs": []
    },
    {
      "cell_type": "code",
      "metadata": {
        "id": "0AIKUaxnu0mx",
        "colab_type": "code",
        "colab": {
          "base_uri": "https://localhost:8080/",
          "height": 677
        },
        "outputId": "1d178e8b-37dd-42cb-ea7a-0aa5391962a9"
      },
      "source": [
        "data_final = pd.concat([data_bitisik, data_ayrı])\n",
        "data_final = data_final.sample(frac=1).reset_index(drop=True)\n",
        "data_final.head(n=20)"
      ],
      "execution_count": 40,
      "outputs": [
        {
          "output_type": "execute_result",
          "data": {
            "text/html": [
              "<div>\n",
              "<style scoped>\n",
              "    .dataframe tbody tr th:only-of-type {\n",
              "        vertical-align: middle;\n",
              "    }\n",
              "\n",
              "    .dataframe tbody tr th {\n",
              "        vertical-align: top;\n",
              "    }\n",
              "\n",
              "    .dataframe thead th {\n",
              "        text-align: right;\n",
              "    }\n",
              "</style>\n",
              "<table border=\"1\" class=\"dataframe\">\n",
              "  <thead>\n",
              "    <tr style=\"text-align: right;\">\n",
              "      <th></th>\n",
              "      <th>0</th>\n",
              "      <th>y</th>\n",
              "    </tr>\n",
              "  </thead>\n",
              "  <tbody>\n",
              "    <tr>\n",
              "      <th>0</th>\n",
              "      <td>gösteriyoruz . İstiyoruz X , gençlerimiz sporla</td>\n",
              "      <td>0</td>\n",
              "    </tr>\n",
              "    <tr>\n",
              "      <th>1</th>\n",
              "      <td>dönüyor . Öyle X , bazıları bu</td>\n",
              "      <td>0</td>\n",
              "    </tr>\n",
              "    <tr>\n",
              "      <th>2</th>\n",
              "      <td>böbrek hasarları beyin damarlarında X sorunlar...</td>\n",
              "      <td>1</td>\n",
              "    </tr>\n",
              "    <tr>\n",
              "      <th>3</th>\n",
              "      <td>bir bölgeydi oysa X . Olimpiyat ,</td>\n",
              "      <td>0</td>\n",
              "    </tr>\n",
              "    <tr>\n",
              "      <th>4</th>\n",
              "      <td>Eyüboğlu'na yeni yapılan tesiste X eksiklerin ...</td>\n",
              "      <td>1</td>\n",
              "    </tr>\n",
              "    <tr>\n",
              "      <th>5</th>\n",
              "      <td>yaratmak da tabi X bir süreçtir .</td>\n",
              "      <td>0</td>\n",
              "    </tr>\n",
              "    <tr>\n",
              "      <th>6</th>\n",
              "      <td>, profesyonelliğime tabii X çok fazla katkısı</td>\n",
              "      <td>0</td>\n",
              "    </tr>\n",
              "    <tr>\n",
              "      <th>7</th>\n",
              "      <td>iki örnek tabii X birbirine benzemez .</td>\n",
              "      <td>0</td>\n",
              "    </tr>\n",
              "    <tr>\n",
              "      <th>8</th>\n",
              "      <td>. Ben inanıyorum X ekonomik açıdan etkileyici</td>\n",
              "      <td>0</td>\n",
              "    </tr>\n",
              "    <tr>\n",
              "      <th>9</th>\n",
              "      <td>para etmez şu bizde X aşk olmasa \"</td>\n",
              "      <td>1</td>\n",
              "    </tr>\n",
              "    <tr>\n",
              "      <th>10</th>\n",
              "      <td>şunu bilmem gerekirdi X , her sebeple</td>\n",
              "      <td>0</td>\n",
              "    </tr>\n",
              "    <tr>\n",
              "      <th>11</th>\n",
              "      <td>) adamlarıyla birlikte kentte X küçük esnaf üz...</td>\n",
              "      <td>1</td>\n",
              "    </tr>\n",
              "    <tr>\n",
              "      <th>12</th>\n",
              "      <td>. Evli ve i X çocuklu ama bir</td>\n",
              "      <td>1</td>\n",
              "    </tr>\n",
              "    <tr>\n",
              "      <th>13</th>\n",
              "      <td>çıkan sonuç şu X Türk Telekom ,</td>\n",
              "      <td>0</td>\n",
              "    </tr>\n",
              "    <tr>\n",
              "      <th>14</th>\n",
              "      <td>konuşuluyor . Demek X bizde en azından</td>\n",
              "      <td>0</td>\n",
              "    </tr>\n",
              "    <tr>\n",
              "      <th>15</th>\n",
              "      <td>öyle bir rejisördü X ben çocukken hatırlıyorum</td>\n",
              "      <td>0</td>\n",
              "    </tr>\n",
              "    <tr>\n",
              "      <th>16</th>\n",
              "      <td>Türkiye ile yakın iliş X kurulmalı ama Türkiye</td>\n",
              "      <td>1</td>\n",
              "    </tr>\n",
              "    <tr>\n",
              "      <th>17</th>\n",
              "      <td>önce bilgisayara yüklenmiş yazılımda X algorit...</td>\n",
              "      <td>1</td>\n",
              "    </tr>\n",
              "    <tr>\n",
              "      <th>18</th>\n",
              "      <td>gönderiyor ve diyor X , ‘ Buradaki</td>\n",
              "      <td>0</td>\n",
              "    </tr>\n",
              "    <tr>\n",
              "      <th>19</th>\n",
              "      <td>algılıyor ve savunma durumunda X ruh haliyle y...</td>\n",
              "      <td>1</td>\n",
              "    </tr>\n",
              "  </tbody>\n",
              "</table>\n",
              "</div>"
            ],
            "text/plain": [
              "                                                    0  y\n",
              "0     gösteriyoruz . İstiyoruz X , gençlerimiz sporla  0\n",
              "1                      dönüyor . Öyle X , bazıları bu  0\n",
              "2   böbrek hasarları beyin damarlarında X sorunlar...  1\n",
              "3                   bir bölgeydi oysa X . Olimpiyat ,  0\n",
              "4   Eyüboğlu'na yeni yapılan tesiste X eksiklerin ...  1\n",
              "5                   yaratmak da tabi X bir süreçtir .  0\n",
              "6       , profesyonelliğime tabii X çok fazla katkısı  0\n",
              "7              iki örnek tabii X birbirine benzemez .  0\n",
              "8       . Ben inanıyorum X ekonomik açıdan etkileyici  0\n",
              "9                  para etmez şu bizde X aşk olmasa \"  1\n",
              "10              şunu bilmem gerekirdi X , her sebeple  0\n",
              "11  ) adamlarıyla birlikte kentte X küçük esnaf üz...  1\n",
              "12                      . Evli ve i X çocuklu ama bir  1\n",
              "13                    çıkan sonuç şu X Türk Telekom ,  0\n",
              "14             konuşuluyor . Demek X bizde en azından  0\n",
              "15     öyle bir rejisördü X ben çocukken hatırlıyorum  0\n",
              "16     Türkiye ile yakın iliş X kurulmalı ama Türkiye  1\n",
              "17  önce bilgisayara yüklenmiş yazılımda X algorit...  1\n",
              "18                 gönderiyor ve diyor X , ‘ Buradaki  0\n",
              "19  algılıyor ve savunma durumunda X ruh haliyle y...  1"
            ]
          },
          "metadata": {
            "tags": []
          },
          "execution_count": 40
        }
      ]
    },
    {
      "cell_type": "code",
      "metadata": {
        "id": "ChRw-Z8NvNXd",
        "colab_type": "code",
        "colab": {}
      },
      "source": [
        "data_final = data_final.rename(columns={0: 'line'})"
      ],
      "execution_count": 41,
      "outputs": []
    },
    {
      "cell_type": "code",
      "metadata": {
        "id": "5hDu3JLmveAB",
        "colab_type": "code",
        "colab": {
          "base_uri": "https://localhost:8080/",
          "height": 34
        },
        "outputId": "3c3595dc-4a60-41d2-a084-e8f87b076ffa"
      },
      "source": [
        "print(data_final.shape)"
      ],
      "execution_count": 42,
      "outputs": [
        {
          "output_type": "stream",
          "text": [
            "(490, 2)\n"
          ],
          "name": "stdout"
        }
      ]
    },
    {
      "cell_type": "code",
      "metadata": {
        "id": "qA8bHFGfvf_8",
        "colab_type": "code",
        "colab": {}
      },
      "source": [
        "data_final.to_csv('/content/drive/My Drive/Fixy/ki2222_data_news_final_X.csv', encoding='utf-8', index=False)\n"
      ],
      "execution_count": 43,
      "outputs": []
    }
  ]
}