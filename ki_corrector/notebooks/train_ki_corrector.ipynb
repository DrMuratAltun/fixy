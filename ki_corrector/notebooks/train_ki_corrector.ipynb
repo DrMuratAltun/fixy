{
  "nbformat": 4,
  "nbformat_minor": 0,
  "metadata": {
    "colab": {
      "name": "train_ki_corrector.ipynb",
      "provenance": []
    },
    "kernelspec": {
      "name": "python3",
      "display_name": "Python 3"
    },
    "accelerator": "GPU"
  },
  "cells": [
    {
      "cell_type": "code",
      "metadata": {
        "id": "bkCuKN8ubAH3",
        "colab_type": "code",
        "colab": {}
      },
      "source": [
        "#Imports\n",
        "from google.colab import drive\n",
        "import pandas as pd\n",
        "import keras\n",
        "import pickle\n",
        "from keras.preprocessing.text import Tokenizer\n",
        "from keras.preprocessing.sequence import pad_sequences\n",
        "from sklearn.model_selection import train_test_split\n",
        "import tensorflow as tf\n",
        "from keras.layers import Dense, LSTM, Flatten, Embedding, Dropout , Activation, GRU, Flatten, Input, Bidirectional, GlobalMaxPool1D, Convolution1D, TimeDistributed, Bidirectional\n",
        "from keras.layers.embeddings import Embedding\n",
        "from keras.models import Model, Sequential\n",
        "from keras import initializers, regularizers, constraints, optimizers, layers"
      ],
      "execution_count": 38,
      "outputs": []
    },
    {
      "cell_type": "code",
      "metadata": {
        "id": "T0eFR15Hbzas",
        "colab_type": "code",
        "colab": {
          "base_uri": "https://localhost:8080/",
          "height": 34
        },
        "outputId": "954508d1-90ac-4d2f-a9c0-dec74301a34a"
      },
      "source": [
        "drive.mount('/content/drive')"
      ],
      "execution_count": 39,
      "outputs": [
        {
          "output_type": "stream",
          "text": [
            "Drive already mounted at /content/drive; to attempt to forcibly remount, call drive.mount(\"/content/drive\", force_remount=True).\n"
          ],
          "name": "stdout"
        }
      ]
    },
    {
      "cell_type": "code",
      "metadata": {
        "id": "8-BPX-nUajfx",
        "colab_type": "code",
        "colab": {
          "base_uri": "https://localhost:8080/",
          "height": 224
        },
        "outputId": "2b88f90a-e82e-4699-a19c-5cc564fe7a88"
      },
      "source": [
        "data = pd.read_csv('/content/drive/My Drive/Fixy/merged_ki_final_X.csv')\n",
        "print(data.shape)\n",
        "data.head()"
      ],
      "execution_count": 40,
      "outputs": [
        {
          "output_type": "stream",
          "text": [
            "(304244, 2)\n"
          ],
          "name": "stdout"
        },
        {
          "output_type": "execute_result",
          "data": {
            "text/html": [
              "<div>\n",
              "<style scoped>\n",
              "    .dataframe tbody tr th:only-of-type {\n",
              "        vertical-align: middle;\n",
              "    }\n",
              "\n",
              "    .dataframe tbody tr th {\n",
              "        vertical-align: top;\n",
              "    }\n",
              "\n",
              "    .dataframe thead th {\n",
              "        text-align: right;\n",
              "    }\n",
              "</style>\n",
              "<table border=\"1\" class=\"dataframe\">\n",
              "  <thead>\n",
              "    <tr style=\"text-align: right;\">\n",
              "      <th></th>\n",
              "      <th>line</th>\n",
              "      <th>y</th>\n",
              "    </tr>\n",
              "  </thead>\n",
              "  <tbody>\n",
              "    <tr>\n",
              "      <th>0</th>\n",
              "      <td>karşı tarafta x kapıya git.</td>\n",
              "      <td>1</td>\n",
              "    </tr>\n",
              "    <tr>\n",
              "      <th>1</th>\n",
              "      <td>- i̇ x kişilikmiş.</td>\n",
              "      <td>1</td>\n",
              "    </tr>\n",
              "    <tr>\n",
              "      <th>2</th>\n",
              "      <td>lisedeyken iç x kaçakçılığı yapardım.</td>\n",
              "      <td>1</td>\n",
              "    </tr>\n",
              "    <tr>\n",
              "      <th>3</th>\n",
              "      <td>binbaşı, şüphem yok x geçmişindeki şiddet sonu...</td>\n",
              "      <td>0</td>\n",
              "    </tr>\n",
              "    <tr>\n",
              "      <th>4</th>\n",
              "      <td>nayam-singh, arkady kolcheck'in sektörde x rak...</td>\n",
              "      <td>1</td>\n",
              "    </tr>\n",
              "  </tbody>\n",
              "</table>\n",
              "</div>"
            ],
            "text/plain": [
              "                                                line  y\n",
              "0                        karşı tarafta x kapıya git.  1\n",
              "1                                 - i̇ x kişilikmiş.  1\n",
              "2              lisedeyken iç x kaçakçılığı yapardım.  1\n",
              "3  binbaşı, şüphem yok x geçmişindeki şiddet sonu...  0\n",
              "4  nayam-singh, arkady kolcheck'in sektörde x rak...  1"
            ]
          },
          "metadata": {
            "tags": []
          },
          "execution_count": 40
        }
      ]
    },
    {
      "cell_type": "code",
      "metadata": {
        "id": "2FKNawr0bMnu",
        "colab_type": "code",
        "colab": {}
      },
      "source": [
        "X = data['line']\n",
        "y = data['y']"
      ],
      "execution_count": 41,
      "outputs": []
    },
    {
      "cell_type": "code",
      "metadata": {
        "id": "o138bI6dazXo",
        "colab_type": "code",
        "colab": {}
      },
      "source": [
        "vocab_size = 15000\n",
        "tokenizer = Tokenizer(vocab_size)\n",
        "tokenizer.fit_on_texts(X)\n",
        "list_tokenized_train = tokenizer.texts_to_sequences(X)"
      ],
      "execution_count": 42,
      "outputs": []
    },
    {
      "cell_type": "code",
      "metadata": {
        "id": "0bfo61JlvSHB",
        "colab_type": "code",
        "colab": {}
      },
      "source": [
        "maxlen = 7\n",
        "X_train_padded = pad_sequences(list_tokenized_train, maxlen=maxlen)"
      ],
      "execution_count": 43,
      "outputs": []
    },
    {
      "cell_type": "code",
      "metadata": {
        "id": "hD7xJjOnvTf-",
        "colab_type": "code",
        "colab": {}
      },
      "source": [
        "X_train, X_test, y_train, y_test = train_test_split(X_train_padded, y, test_size=0.2, stratify=y)"
      ],
      "execution_count": 44,
      "outputs": []
    },
    {
      "cell_type": "code",
      "metadata": {
        "id": "xXqBTjT3vSQK",
        "colab_type": "code",
        "colab": {}
      },
      "source": [
        "early_stopping_cb = keras.callbacks.EarlyStopping(monitor='val_accuracy', patience=30, restore_best_weights=True, verbose=1)"
      ],
      "execution_count": 45,
      "outputs": []
    },
    {
      "cell_type": "code",
      "metadata": {
        "id": "8vUR1m7Ua0k0",
        "colab_type": "code",
        "colab": {
          "base_uri": "https://localhost:8080/",
          "height": 330
        },
        "outputId": "755992ab-5b15-46ec-d5e8-5a25ce404b12"
      },
      "source": [
        "embed_size = 128\n",
        "model = Sequential()\n",
        "model.add(Embedding(vocab_size, embed_size))\n",
        "model.add(Bidirectional(LSTM(64, return_sequences = True)))\n",
        "model.add(Bidirectional(LSTM(32, return_sequences = True)))\n",
        "model.add(GlobalMaxPool1D())\n",
        "model.add(Dense(1, activation=\"sigmoid\"))\n",
        "model.summary()"
      ],
      "execution_count": 65,
      "outputs": [
        {
          "output_type": "stream",
          "text": [
            "Model: \"sequential_12\"\n",
            "_________________________________________________________________\n",
            "Layer (type)                 Output Shape              Param #   \n",
            "=================================================================\n",
            "embedding_10 (Embedding)     (None, None, 128)         1920000   \n",
            "_________________________________________________________________\n",
            "bidirectional_15 (Bidirectio (None, None, 128)         98816     \n",
            "_________________________________________________________________\n",
            "bidirectional_16 (Bidirectio (None, None, 64)          41216     \n",
            "_________________________________________________________________\n",
            "global_max_pooling1d_8 (Glob (None, 64)                0         \n",
            "_________________________________________________________________\n",
            "dense_11 (Dense)             (None, 1)                 65        \n",
            "=================================================================\n",
            "Total params: 2,060,097\n",
            "Trainable params: 2,060,097\n",
            "Non-trainable params: 0\n",
            "_________________________________________________________________\n"
          ],
          "name": "stdout"
        }
      ]
    },
    {
      "cell_type": "code",
      "metadata": {
        "id": "TUH7BBHNGkfR",
        "colab_type": "code",
        "colab": {
          "base_uri": "https://localhost:8080/",
          "height": 315
        },
        "outputId": "e40fb830-110e-4b01-ab12-61c01ecd2fbf"
      },
      "source": [
        "model.compile(loss='binary_crossentropy', optimizer='adam', metrics=[tf.keras.metrics.AUC(name='auc'), 'accuracy'])\n",
        "\n",
        "batch_size = 10000\n",
        "epochs = 6\n",
        "model.fit(X_train, y_train, batch_size=batch_size, epochs=epochs, validation_split=0.1, callbacks=[early_stopping_cb])"
      ],
      "execution_count": 66,
      "outputs": [
        {
          "output_type": "stream",
          "text": [
            "/usr/local/lib/python3.6/dist-packages/tensorflow/python/framework/indexed_slices.py:434: UserWarning: Converting sparse IndexedSlices to a dense Tensor of unknown shape. This may consume a large amount of memory.\n",
            "  \"Converting sparse IndexedSlices to a dense Tensor of unknown shape. \"\n"
          ],
          "name": "stderr"
        },
        {
          "output_type": "stream",
          "text": [
            "Train on 219055 samples, validate on 24340 samples\n",
            "Epoch 1/6\n",
            "219055/219055 [==============================] - 6s 28us/step - loss: 0.6575 - auc: 0.6704 - accuracy: 0.6936 - val_loss: 0.5300 - val_auc: 0.7826 - val_accuracy: 0.8408\n",
            "Epoch 2/6\n",
            "219055/219055 [==============================] - 5s 21us/step - loss: 0.3211 - auc: 0.8414 - accuracy: 0.8873 - val_loss: 0.2366 - val_auc: 0.8800 - val_accuracy: 0.9086\n",
            "Epoch 3/6\n",
            "219055/219055 [==============================] - 5s 21us/step - loss: 0.1967 - auc: 0.9031 - accuracy: 0.9237 - val_loss: 0.2151 - val_auc: 0.9193 - val_accuracy: 0.9123\n",
            "Epoch 4/6\n",
            "219055/219055 [==============================] - 5s 21us/step - loss: 0.1713 - auc: 0.9302 - accuracy: 0.9341 - val_loss: 0.2117 - val_auc: 0.9384 - val_accuracy: 0.9119\n",
            "Epoch 5/6\n",
            "219055/219055 [==============================] - 5s 21us/step - loss: 0.1588 - auc: 0.9447 - accuracy: 0.9395 - val_loss: 0.2152 - val_auc: 0.9495 - val_accuracy: 0.9102\n",
            "Epoch 6/6\n",
            "219055/219055 [==============================] - 4s 21us/step - loss: 0.1503 - auc: 0.9535 - accuracy: 0.9429 - val_loss: 0.2122 - val_auc: 0.9566 - val_accuracy: 0.9141\n"
          ],
          "name": "stdout"
        },
        {
          "output_type": "execute_result",
          "data": {
            "text/plain": [
              "<keras.callbacks.callbacks.History at 0x7f1bc9181a90>"
            ]
          },
          "metadata": {
            "tags": []
          },
          "execution_count": 66
        }
      ]
    },
    {
      "cell_type": "code",
      "metadata": {
        "id": "RJxaB4wra2LT",
        "colab_type": "code",
        "colab": {
          "base_uri": "https://localhost:8080/",
          "height": 69
        },
        "outputId": "ef85b30d-6451-48e6-c012-7ed0ca5e3964"
      },
      "source": [
        "pred = tokenizer.texts_to_sequences([\"desem x böyle böyle oldu\"])\n",
        "print(pred)\n",
        "maxlen = 7\n",
        "padded_pred = pad_sequences(pred, maxlen=maxlen)\n",
        "print(padded_pred)\n",
        "model.predict(padded_pred)\n",
        "\n",
        "#bu sene x yarışma çok zorlu geçecek\n",
        "#duydum x unutmuşsun\n",
        "#şöyle x sıçtık\n",
        "#desem x böyle böyle oldu"
      ],
      "execution_count": 71,
      "outputs": [
        {
          "output_type": "stream",
          "text": [
            "[[3876, 1, 96, 96, 81]]\n",
            "[[   0    0 3876    1   96   96   81]]\n"
          ],
          "name": "stdout"
        },
        {
          "output_type": "execute_result",
          "data": {
            "text/plain": [
              "array([[0.00843348]], dtype=float32)"
            ]
          },
          "metadata": {
            "tags": []
          },
          "execution_count": 71
        }
      ]
    },
    {
      "cell_type": "code",
      "metadata": {
        "id": "IncPG00Sa3vp",
        "colab_type": "code",
        "colab": {
          "base_uri": "https://localhost:8080/",
          "height": 243
        },
        "outputId": "033351c0-2eec-429f-8c51-30c234f0444f"
      },
      "source": [
        "from sklearn.metrics import confusion_matrix, accuracy_score, classification_report, roc_auc_score\n",
        "\n",
        "y_pred = model.predict_classes(X_test)\n",
        "\n",
        "accuracy = accuracy_score(y_test, y_pred)\n",
        "print(\"Accuracy on Test Data: %.2f%%\" % (accuracy * 100.0))\n",
        "\n",
        "print(confusion_matrix(y_test, y_pred ))\n",
        "print(classification_report(y_test, y_pred, digits=4))\n",
        "print(roc_auc_score(y_test, y_pred))"
      ],
      "execution_count": 67,
      "outputs": [
        {
          "output_type": "stream",
          "text": [
            "Accuracy on Test Data: 91.32%\n",
            "[[27113  3311]\n",
            " [ 1968 28457]]\n",
            "              precision    recall  f1-score   support\n",
            "\n",
            "           0     0.9323    0.8912    0.9113     30424\n",
            "           1     0.8958    0.9353    0.9151     30425\n",
            "\n",
            "    accuracy                         0.9132     60849\n",
            "   macro avg     0.9141    0.9132    0.9132     60849\n",
            "weighted avg     0.9141    0.9132    0.9132     60849\n",
            "\n",
            "0.913243897640815\n"
          ],
          "name": "stdout"
        }
      ]
    },
    {
      "cell_type": "code",
      "metadata": {
        "id": "R4jBMS0jQYr2",
        "colab_type": "code",
        "colab": {
          "base_uri": "https://localhost:8080/",
          "height": 34
        },
        "outputId": "110e0a26-1f8d-4d7d-d7b7-50b53f3fcf1d"
      },
      "source": [
        "model.save(\"Model_ki.h5\")\n",
        "print(\"Saved model to disk\")"
      ],
      "execution_count": 72,
      "outputs": [
        {
          "output_type": "stream",
          "text": [
            "Saved model to disk\n"
          ],
          "name": "stdout"
        }
      ]
    },
    {
      "cell_type": "code",
      "metadata": {
        "id": "hSR8u6dwg1Ki",
        "colab_type": "code",
        "colab": {}
      },
      "source": [
        "model.load_weights(\"/content/Model_ki.h5\")"
      ],
      "execution_count": 74,
      "outputs": []
    },
    {
      "cell_type": "code",
      "metadata": {
        "id": "v4C3rjV2irHh",
        "colab_type": "code",
        "colab": {}
      },
      "source": [
        "with open('tokenizer_ki.pickle', 'wb') as handle:\n",
        "    pickle.dump(tokenizer, handle, protocol=pickle.HIGHEST_PROTOCOL)"
      ],
      "execution_count": 78,
      "outputs": []
    },
    {
      "cell_type": "code",
      "metadata": {
        "id": "4AsaMqQAjIRP",
        "colab_type": "code",
        "colab": {}
      },
      "source": [
        ""
      ],
      "execution_count": null,
      "outputs": []
    }
  ]
}