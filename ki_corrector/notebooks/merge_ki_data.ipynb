{
  "nbformat": 4,
  "nbformat_minor": 0,
  "metadata": {
    "colab": {
      "name": "merge_ki_data.ipynb",
      "provenance": []
    },
    "kernelspec": {
      "name": "python3",
      "display_name": "Python 3"
    }
  },
  "cells": [
    {
      "cell_type": "code",
      "metadata": {
        "id": "y4wKv9ilXpt7",
        "colab_type": "code",
        "colab": {
          "base_uri": "https://localhost:8080/",
          "height": 34
        },
        "outputId": "5a7fbe18-87cb-40f2-fdcd-4579e364cbe9"
      },
      "source": [
        "from google.colab import drive\n",
        "drive.mount('/content/drive')"
      ],
      "execution_count": 2,
      "outputs": [
        {
          "output_type": "stream",
          "text": [
            "Drive already mounted at /content/drive; to attempt to forcibly remount, call drive.mount(\"/content/drive\", force_remount=True).\n"
          ],
          "name": "stdout"
        }
      ]
    },
    {
      "cell_type": "code",
      "metadata": {
        "id": "uEAcmiydX040",
        "colab_type": "code",
        "colab": {}
      },
      "source": [
        "import pandas as pd\n",
        "data_subtitle = pd.read_csv('/content/drive/My Drive/Fixy/ki_data_subtitle_final_X.csv')\n",
        "data_wiki = pd.read_csv('/content/drive/My Drive/Fixy/ki_data_wiki_final_X.csv')\n",
        "data_news = pd.read_csv('/content/drive/My Drive/Fixy/ki_data_news_final_X.csv')"
      ],
      "execution_count": 3,
      "outputs": []
    },
    {
      "cell_type": "code",
      "metadata": {
        "id": "7uDD7iz1Y80Y",
        "colab_type": "code",
        "colab": {
          "base_uri": "https://localhost:8080/",
          "height": 380
        },
        "outputId": "d546647c-9958-4c97-f463-33258524f589"
      },
      "source": [
        "print(data_subtitle.shape)\n",
        "data_subtitle.head(n=10)"
      ],
      "execution_count": 4,
      "outputs": [
        {
          "output_type": "stream",
          "text": [
            "(283558, 2)\n"
          ],
          "name": "stdout"
        },
        {
          "output_type": "execute_result",
          "data": {
            "text/html": [
              "<div>\n",
              "<style scoped>\n",
              "    .dataframe tbody tr th:only-of-type {\n",
              "        vertical-align: middle;\n",
              "    }\n",
              "\n",
              "    .dataframe tbody tr th {\n",
              "        vertical-align: top;\n",
              "    }\n",
              "\n",
              "    .dataframe thead th {\n",
              "        text-align: right;\n",
              "    }\n",
              "</style>\n",
              "<table border=\"1\" class=\"dataframe\">\n",
              "  <thead>\n",
              "    <tr style=\"text-align: right;\">\n",
              "      <th></th>\n",
              "      <th>line</th>\n",
              "      <th>y</th>\n",
              "    </tr>\n",
              "  </thead>\n",
              "  <tbody>\n",
              "    <tr>\n",
              "      <th>0</th>\n",
              "      <td>Ama bilmelisin X Spencer Ricks de o sayıda ola...</td>\n",
              "      <td>0</td>\n",
              "    </tr>\n",
              "    <tr>\n",
              "      <th>1</th>\n",
              "      <td>Pe X ya siz, hocam?</td>\n",
              "      <td>1</td>\n",
              "    </tr>\n",
              "    <tr>\n",
              "      <th>2</th>\n",
              "      <td>En azından bir iç X ısmarlasaydın.</td>\n",
              "      <td>1</td>\n",
              "    </tr>\n",
              "    <tr>\n",
              "      <th>3</th>\n",
              "      <td>Kıçımı es X ihtişamına geri getirmenizi istiyo...</td>\n",
              "      <td>1</td>\n",
              "    </tr>\n",
              "    <tr>\n",
              "      <th>4</th>\n",
              "      <td>Sadece diyelim X onun gibi birisi daha yok.</td>\n",
              "      <td>0</td>\n",
              "    </tr>\n",
              "    <tr>\n",
              "      <th>5</th>\n",
              "      <td>-Ne olmuş X orda?</td>\n",
              "      <td>0</td>\n",
              "    </tr>\n",
              "    <tr>\n",
              "      <th>6</th>\n",
              "      <td>Orada X tüm kaynaklar bize aittir.</td>\n",
              "      <td>0</td>\n",
              "    </tr>\n",
              "    <tr>\n",
              "      <th>7</th>\n",
              "      <td>Şansım vardı X beni bıraktılar.</td>\n",
              "      <td>0</td>\n",
              "    </tr>\n",
              "    <tr>\n",
              "      <th>8</th>\n",
              "      <td>- Tabii X seviyorum.</td>\n",
              "      <td>0</td>\n",
              "    </tr>\n",
              "    <tr>\n",
              "      <th>9</th>\n",
              "      <td>Ne yazık X oraya ilk sen gitmişsin.</td>\n",
              "      <td>0</td>\n",
              "    </tr>\n",
              "  </tbody>\n",
              "</table>\n",
              "</div>"
            ],
            "text/plain": [
              "                                                line  y\n",
              "0  Ama bilmelisin X Spencer Ricks de o sayıda ola...  0\n",
              "1                                Pe X ya siz, hocam?  1\n",
              "2                 En azından bir iç X ısmarlasaydın.  1\n",
              "3  Kıçımı es X ihtişamına geri getirmenizi istiyo...  1\n",
              "4        Sadece diyelim X onun gibi birisi daha yok.  0\n",
              "5                                  -Ne olmuş X orda?  0\n",
              "6                 Orada X tüm kaynaklar bize aittir.  0\n",
              "7                    Şansım vardı X beni bıraktılar.  0\n",
              "8                               - Tabii X seviyorum.  0\n",
              "9                Ne yazık X oraya ilk sen gitmişsin.  0"
            ]
          },
          "metadata": {
            "tags": []
          },
          "execution_count": 4
        }
      ]
    },
    {
      "cell_type": "code",
      "metadata": {
        "id": "nrcNCOrjY_pz",
        "colab_type": "code",
        "colab": {
          "base_uri": "https://localhost:8080/",
          "height": 380
        },
        "outputId": "2071aa71-0270-4769-d023-9fb2f80fdc87"
      },
      "source": [
        "print(data_wiki.shape)\n",
        "data_wiki.head(n=10)"
      ],
      "execution_count": 5,
      "outputs": [
        {
          "output_type": "stream",
          "text": [
            "(20516, 2)\n"
          ],
          "name": "stdout"
        },
        {
          "output_type": "execute_result",
          "data": {
            "text/html": [
              "<div>\n",
              "<style scoped>\n",
              "    .dataframe tbody tr th:only-of-type {\n",
              "        vertical-align: middle;\n",
              "    }\n",
              "\n",
              "    .dataframe tbody tr th {\n",
              "        vertical-align: top;\n",
              "    }\n",
              "\n",
              "    .dataframe thead th {\n",
              "        text-align: right;\n",
              "    }\n",
              "</style>\n",
              "<table border=\"1\" class=\"dataframe\">\n",
              "  <thead>\n",
              "    <tr style=\"text-align: right;\">\n",
              "      <th></th>\n",
              "      <th>line</th>\n",
              "      <th>y</th>\n",
              "    </tr>\n",
              "  </thead>\n",
              "  <tbody>\n",
              "    <tr>\n",
              "      <th>0</th>\n",
              "      <td>. Evli ve i X çocuk babasıdır .</td>\n",
              "      <td>1</td>\n",
              "    </tr>\n",
              "    <tr>\n",
              "      <th>1</th>\n",
              "      <td>o kadar belirgindir X , aşağı yukarı</td>\n",
              "      <td>0</td>\n",
              "    </tr>\n",
              "    <tr>\n",
              "      <th>2</th>\n",
              "      <td>Tabata , bir önce X sezon olduğu gibi</td>\n",
              "      <td>1</td>\n",
              "    </tr>\n",
              "    <tr>\n",
              "      <th>3</th>\n",
              "      <td>sebebi ile bir önce X ayete istinaden bu</td>\n",
              "      <td>1</td>\n",
              "    </tr>\n",
              "    <tr>\n",
              "      <th>4</th>\n",
              "      <td>vay haline , X onlar namazlarından gafildirler</td>\n",
              "      <td>0</td>\n",
              "    </tr>\n",
              "    <tr>\n",
              "      <th>5</th>\n",
              "      <td>deliği ) mağarasıda es X dönemlerde insanların...</td>\n",
              "      <td>1</td>\n",
              "    </tr>\n",
              "    <tr>\n",
              "      <th>6</th>\n",
              "      <td>aile ve belgesel türünde X filmdir . Türkiye'deki</td>\n",
              "      <td>1</td>\n",
              "    </tr>\n",
              "    <tr>\n",
              "      <th>7</th>\n",
              "      <td>görülmektedir . Bu kesimde X kazılarda ulaşıla...</td>\n",
              "      <td>1</td>\n",
              "    </tr>\n",
              "    <tr>\n",
              "      <th>8</th>\n",
              "      <td>öylesine hızlı batmıştı X geminin içindeki 81</td>\n",
              "      <td>0</td>\n",
              "    </tr>\n",
              "    <tr>\n",
              "      <th>9</th>\n",
              "      <td>üzerine Muhammed dedi X , \" Münafıklar</td>\n",
              "      <td>0</td>\n",
              "    </tr>\n",
              "  </tbody>\n",
              "</table>\n",
              "</div>"
            ],
            "text/plain": [
              "                                                line  y\n",
              "0                    . Evli ve i X çocuk babasıdır .  1\n",
              "1               o kadar belirgindir X , aşağı yukarı  0\n",
              "2              Tabata , bir önce X sezon olduğu gibi  1\n",
              "3           sebebi ile bir önce X ayete istinaden bu  1\n",
              "4     vay haline , X onlar namazlarından gafildirler  0\n",
              "5  deliği ) mağarasıda es X dönemlerde insanların...  1\n",
              "6  aile ve belgesel türünde X filmdir . Türkiye'deki  1\n",
              "7  görülmektedir . Bu kesimde X kazılarda ulaşıla...  1\n",
              "8      öylesine hızlı batmıştı X geminin içindeki 81  0\n",
              "9             üzerine Muhammed dedi X , \" Münafıklar  0"
            ]
          },
          "metadata": {
            "tags": []
          },
          "execution_count": 5
        }
      ]
    },
    {
      "cell_type": "code",
      "metadata": {
        "id": "EXEaRpEWZFhB",
        "colab_type": "code",
        "colab": {
          "base_uri": "https://localhost:8080/",
          "height": 380
        },
        "outputId": "e146fef1-a551-4197-e051-693377da6592"
      },
      "source": [
        "print(data_news.shape)\n",
        "data_news.head(n=10)"
      ],
      "execution_count": 6,
      "outputs": [
        {
          "output_type": "stream",
          "text": [
            "(170, 2)\n"
          ],
          "name": "stdout"
        },
        {
          "output_type": "execute_result",
          "data": {
            "text/html": [
              "<div>\n",
              "<style scoped>\n",
              "    .dataframe tbody tr th:only-of-type {\n",
              "        vertical-align: middle;\n",
              "    }\n",
              "\n",
              "    .dataframe tbody tr th {\n",
              "        vertical-align: top;\n",
              "    }\n",
              "\n",
              "    .dataframe thead th {\n",
              "        text-align: right;\n",
              "    }\n",
              "</style>\n",
              "<table border=\"1\" class=\"dataframe\">\n",
              "  <thead>\n",
              "    <tr style=\"text-align: right;\">\n",
              "      <th></th>\n",
              "      <th>line</th>\n",
              "      <th>y</th>\n",
              "    </tr>\n",
              "  </thead>\n",
              "  <tbody>\n",
              "    <tr>\n",
              "      <th>0</th>\n",
              "      <td>şekil X Ay'ın yüzeyini İstanbul'daki rasathane...</td>\n",
              "      <td>1</td>\n",
              "    </tr>\n",
              "    <tr>\n",
              "      <th>1</th>\n",
              "      <td>inceledikten sonra öğleden sonraki görüşmeleri...</td>\n",
              "      <td>1</td>\n",
              "    </tr>\n",
              "    <tr>\n",
              "      <th>2</th>\n",
              "      <td>15 dakika için X iki kere yüz X 100'lük</td>\n",
              "      <td>1</td>\n",
              "    </tr>\n",
              "    <tr>\n",
              "      <th>3</th>\n",
              "      <td>Fransa ligin X iki eski Beşiktaşlı oyuncuyu karşı</td>\n",
              "      <td>1</td>\n",
              "    </tr>\n",
              "    <tr>\n",
              "      <th>4</th>\n",
              "      <td>3 ana kategori X iki gün boyunca 132</td>\n",
              "      <td>1</td>\n",
              "    </tr>\n",
              "    <tr>\n",
              "      <th>5</th>\n",
              "      <td>iddia ... Nitekim iki otel X pek</td>\n",
              "      <td>0</td>\n",
              "    </tr>\n",
              "    <tr>\n",
              "      <th>6</th>\n",
              "      <td>. Belki X filmdeki karakterden etkilenerek ara</td>\n",
              "      <td>0</td>\n",
              "    </tr>\n",
              "    <tr>\n",
              "      <th>7</th>\n",
              "      <td>. Şimdi diyorlar ki Hitler X sandıktan</td>\n",
              "      <td>0</td>\n",
              "    </tr>\n",
              "    <tr>\n",
              "      <th>8</th>\n",
              "      <td>Brüksel X olduğu için önümüzdeki hafta bu konuyu</td>\n",
              "      <td>1</td>\n",
              "    </tr>\n",
              "    <tr>\n",
              "      <th>9</th>\n",
              "      <td>haritasıdır . İnşallah önümüzdeki günler X 3. ...</td>\n",
              "      <td>1</td>\n",
              "    </tr>\n",
              "  </tbody>\n",
              "</table>\n",
              "</div>"
            ],
            "text/plain": [
              "                                                line  y\n",
              "0  şekil X Ay'ın yüzeyini İstanbul'daki rasathane...  1\n",
              "1  inceledikten sonra öğleden sonraki görüşmeleri...  1\n",
              "2            15 dakika için X iki kere yüz X 100'lük  1\n",
              "3  Fransa ligin X iki eski Beşiktaşlı oyuncuyu karşı  1\n",
              "4               3 ana kategori X iki gün boyunca 132  1\n",
              "5                   iddia ... Nitekim iki otel X pek  0\n",
              "6     . Belki X filmdeki karakterden etkilenerek ara  0\n",
              "7             . Şimdi diyorlar ki Hitler X sandıktan  0\n",
              "8   Brüksel X olduğu için önümüzdeki hafta bu konuyu  1\n",
              "9  haritasıdır . İnşallah önümüzdeki günler X 3. ...  1"
            ]
          },
          "metadata": {
            "tags": []
          },
          "execution_count": 6
        }
      ]
    },
    {
      "cell_type": "code",
      "metadata": {
        "id": "GHMq0tfyZdlb",
        "colab_type": "code",
        "colab": {
          "base_uri": "https://localhost:8080/",
          "height": 380
        },
        "outputId": "570cb52f-529f-4788-b7f1-20d32e1704d5"
      },
      "source": [
        "data = pd.concat([data_news, data_wiki, data_subtitle])\n",
        "data = data.sample(frac=1).reset_index(drop=True)\n",
        "data['line'] = data['line'].str.lower() \n",
        "print(data.shape)\n",
        "data.head(n=10)"
      ],
      "execution_count": 7,
      "outputs": [
        {
          "output_type": "stream",
          "text": [
            "(304244, 2)\n"
          ],
          "name": "stdout"
        },
        {
          "output_type": "execute_result",
          "data": {
            "text/html": [
              "<div>\n",
              "<style scoped>\n",
              "    .dataframe tbody tr th:only-of-type {\n",
              "        vertical-align: middle;\n",
              "    }\n",
              "\n",
              "    .dataframe tbody tr th {\n",
              "        vertical-align: top;\n",
              "    }\n",
              "\n",
              "    .dataframe thead th {\n",
              "        text-align: right;\n",
              "    }\n",
              "</style>\n",
              "<table border=\"1\" class=\"dataframe\">\n",
              "  <thead>\n",
              "    <tr style=\"text-align: right;\">\n",
              "      <th></th>\n",
              "      <th>line</th>\n",
              "      <th>y</th>\n",
              "    </tr>\n",
              "  </thead>\n",
              "  <tbody>\n",
              "    <tr>\n",
              "      <th>0</th>\n",
              "      <td>karşı tarafta x kapıya git.</td>\n",
              "      <td>1</td>\n",
              "    </tr>\n",
              "    <tr>\n",
              "      <th>1</th>\n",
              "      <td>- i̇ x kişilikmiş.</td>\n",
              "      <td>1</td>\n",
              "    </tr>\n",
              "    <tr>\n",
              "      <th>2</th>\n",
              "      <td>lisedeyken iç x kaçakçılığı yapardım.</td>\n",
              "      <td>1</td>\n",
              "    </tr>\n",
              "    <tr>\n",
              "      <th>3</th>\n",
              "      <td>binbaşı, şüphem yok x geçmişindeki şiddet sonu...</td>\n",
              "      <td>0</td>\n",
              "    </tr>\n",
              "    <tr>\n",
              "      <th>4</th>\n",
              "      <td>nayam-singh, arkady kolcheck'in sektörde x rak...</td>\n",
              "      <td>1</td>\n",
              "    </tr>\n",
              "    <tr>\n",
              "      <th>5</th>\n",
              "      <td>sana bir iç x alayım.</td>\n",
              "      <td>1</td>\n",
              "    </tr>\n",
              "    <tr>\n",
              "      <th>6</th>\n",
              "      <td>- bu akşam x maçı dominique organize etti.</td>\n",
              "      <td>1</td>\n",
              "    </tr>\n",
              "    <tr>\n",
              "      <th>7</th>\n",
              "      <td>ron'la öpüşür . sonra x bölümlerde de ron'la</td>\n",
              "      <td>1</td>\n",
              "    </tr>\n",
              "    <tr>\n",
              "      <th>8</th>\n",
              "      <td>şu arkada x bölge de plana dahil mi peki?</td>\n",
              "      <td>1</td>\n",
              "    </tr>\n",
              "    <tr>\n",
              "      <th>9</th>\n",
              "      <td>- pe x bu nedir?</td>\n",
              "      <td>1</td>\n",
              "    </tr>\n",
              "  </tbody>\n",
              "</table>\n",
              "</div>"
            ],
            "text/plain": [
              "                                                line  y\n",
              "0                        karşı tarafta x kapıya git.  1\n",
              "1                                 - i̇ x kişilikmiş.  1\n",
              "2              lisedeyken iç x kaçakçılığı yapardım.  1\n",
              "3  binbaşı, şüphem yok x geçmişindeki şiddet sonu...  0\n",
              "4  nayam-singh, arkady kolcheck'in sektörde x rak...  1\n",
              "5                              sana bir iç x alayım.  1\n",
              "6         - bu akşam x maçı dominique organize etti.  1\n",
              "7       ron'la öpüşür . sonra x bölümlerde de ron'la  1\n",
              "8          şu arkada x bölge de plana dahil mi peki?  1\n",
              "9                                   - pe x bu nedir?  1"
            ]
          },
          "metadata": {
            "tags": []
          },
          "execution_count": 7
        }
      ]
    },
    {
      "cell_type": "code",
      "metadata": {
        "id": "Ip5qz7UwZoIB",
        "colab_type": "code",
        "colab": {}
      },
      "source": [
        "data.to_csv('/content/drive/My Drive/Fixy/merged_ki_final_X.csv', encoding='utf-8', index=False)"
      ],
      "execution_count": 8,
      "outputs": []
    }
  ]
}